{
 "cells": [
  {
   "cell_type": "markdown",
   "metadata": {},
   "source": [
    "# Credit Card Fraud Prediction - Model Training\n",
    "\n",
    "This demo is based on the Machine Learning for Credit Card Fraud detection - Practical handbook, https://fraud-detection-handbook.github.io/fraud-detection-handbook/\n",
    "\n",
    "Before running this notebook you need to go through ***01 - Snowpark - Feature Engineering***\n",
    "\n",
    "Import the libraries we are using"
   ]
  },
  {
   "cell_type": "code",
   "execution_count": 1,
   "metadata": {},
   "outputs": [
    {
     "data": {
      "text/plain": [
       "'0.11.0'"
      ]
     },
     "execution_count": 1,
     "metadata": {},
     "output_type": "execute_result"
    }
   ],
   "source": [
    "# Snowpark\n",
    "from snowflake.snowpark import Session\n",
    "import snowflake.snowpark.types as T\n",
    "import snowflake.snowpark.functions as F\n",
    "from snowflake.snowpark.types import PandasSeries, PandasDataFrame\n",
    "\n",
    "# Print the version of Snowpark we are using\n",
    "from importlib.metadata import version\n",
    "version('snowflake_snowpark_python')"
   ]
  },
  {
   "cell_type": "code",
   "execution_count": 2,
   "metadata": {},
   "outputs": [],
   "source": [
    "import json\n",
    "import datetime\n",
    "import sklearn\n",
    "from sklearn import *\n",
    "import pandas as pd\n",
    "import numpy as np\n",
    "import cachetools"
   ]
  },
  {
   "cell_type": "code",
   "execution_count": 3,
   "metadata": {},
   "outputs": [],
   "source": [
    "pd.options.display.max_columns = 500\n",
    "pd.options.display.max_rows = 100"
   ]
  },
  {
   "cell_type": "markdown",
   "metadata": {},
   "source": [
    "Start by connecting to Snowflake and get our data, make sure that ***creds.json*** is updated with your username and password"
   ]
  },
  {
   "cell_type": "code",
   "execution_count": 4,
   "metadata": {},
   "outputs": [],
   "source": [
    "with open('creds.json') as f:\n",
    "    connection_parameters = json.load(f)    "
   ]
  },
  {
   "cell_type": "code",
   "execution_count": 5,
   "metadata": {},
   "outputs": [
    {
     "name": "stdout",
     "output_type": "stream",
     "text": [
      "Current schema: \"FRAUD_DATA\".\"PUBLIC\", current role: \"ACCOUNTADMIN\", current warehouse:  \"COMPUTE_WH\"\n"
     ]
    }
   ],
   "source": [
    "session = Session.builder.configs(connection_parameters).create()\n",
    "print(f\"Current schema: {session.get_fully_qualified_current_schema()}, current role: {session.get_current_role()}, current warehouse:  {session.get_current_warehouse()}\")"
   ]
  },
  {
   "cell_type": "markdown",
   "metadata": {},
   "source": [
    "Start by making sure we are using a MEDIUM WH since we will pull back data to the client."
   ]
  },
  {
   "cell_type": "code",
   "execution_count": 6,
   "metadata": {},
   "outputs": [],
   "source": [
    "def scale_wh(sess, wh, size):\n",
    "    if (len(wh) == 0): \n",
    "        return false\n",
    "    if (len(size) == 0):\n",
    "        return false\n",
    "   \n",
    "    alter_SQL = \"ALTER WAREHOUSE \" + wh + \" SET WAREHOUSE_SIZE = \" + size\n",
    "    sess.sql(alter_SQL).collect()\n",
    "    return True"
   ]
  },
  {
   "cell_type": "code",
   "execution_count": 7,
   "metadata": {},
   "outputs": [
    {
     "data": {
      "text/plain": [
       "True"
      ]
     },
     "execution_count": 7,
     "metadata": {},
     "output_type": "execute_result"
    }
   ],
   "source": [
    "scale_wh(session, session.get_current_warehouse(), \"MEDIUM\")"
   ]
  },
  {
   "cell_type": "markdown",
   "metadata": {},
   "source": [
    "We will not use the full data set for traing so we need to add a filter. Since we want to be sure that the data we used for training is not changed we will use the zero-copy-cloning feature of Snowflake to create a datasnapshot."
   ]
  },
  {
   "cell_type": "code",
   "execution_count": 8,
   "metadata": {},
   "outputs": [
    {
     "name": "stdout",
     "output_type": "stream",
     "text": [
      "2022_11_22__13_28_34\n",
      "Using Table:  CUSTOMER_TRX_FRAUD_FEATURES_2022_11_22__13_28_34\n",
      "-----------------------------------------------------------------------------------------------------------------------------------------------------------------------------------------------------------------------------------------------------------------------------------------------------------------------------------------------------------------------------------------------------------------------------------------------\n",
      "|\"TRANSACTION_ID\"  |\"TX_DATETIME\"        |\"CUSTOMER_ID\"  |\"TERMINAL_ID\"  |\"TX_TIME_SECONDS\"  |\"TX_TIME_DAYS\"  |\"TX_AMOUNT\"  |\"TX_FRAUD\"  |\"TX_FRAUD_SCENARIO\"  |\"TX_DURING_WEEKEND\"  |\"TX_DURING_NIGHT\"  |\"CUST_AVG_AMOUNT_1\"  |\"CUST_CNT_TX_1\"  |\"CUST_AVG_AMOUNT_7\"  |\"CUST_CNT_TX_7\"  |\"CUST_AVG_AMOUNT_30\"  |\"CUST_CNT_TX_30\"  |\"NB_TX_WINDOW_1\"  |\"TERM_RISK_1\"  |\"NB_TX_WINDOW_7\"  |\"TERM_RISK_7\"  |\"NB_TX_WINDOW_30\"  |\"TERM_RISK_30\"  |\n",
      "-----------------------------------------------------------------------------------------------------------------------------------------------------------------------------------------------------------------------------------------------------------------------------------------------------------------------------------------------------------------------------------------------------------------------------------------------\n",
      "|518169            |2019-05-25 00:00:28  |955            |2587           |4665628            |54              |113.07       |0           |0                    |1                    |1                  |101.45               |3                |59.6859090909091     |22               |56.58236842105262     |76                |1                 |0.000000       |1                 |0.000000       |21                 |0.000000        |\n",
      "|518170            |2019-05-25 00:00:28  |799            |9877           |4665628            |54              |74.7         |0           |0                    |1                    |1                  |74.7                 |1                |67.47100000000007    |10               |66.86521739130441     |69                |0                 |0.000000       |0                 |0.000000       |9                  |0.000000        |\n",
      "|518171            |2019-05-25 00:01:22  |4736           |5082           |4665682            |54              |34.72        |0           |0                    |1                    |1                  |42.712               |5                |54.50968750000002    |32               |53.25881188118815     |101               |2                 |0.000000       |2                 |0.000000       |45                 |0.000000        |\n",
      "|518172            |2019-05-25 00:01:59  |525            |7745           |4665719            |54              |42.27        |0           |0                    |1                    |1                  |48.88                |5                |58.20000000000001    |21               |60.81616438356164     |73                |3                 |0.000000       |3                 |0.000000       |43                 |0.000000        |\n",
      "|518173            |2019-05-25 00:03:20  |2123           |2753           |4665800            |54              |14.91        |0           |0                    |1                    |1                  |25.322499999999998   |4                |24.004210526315788   |19               |21.235116279069768    |86                |2                 |0.000000       |2                 |0.000000       |27                 |0.000000        |\n",
      "|518174            |2019-05-25 00:04:04  |2391           |6327           |4665844            |54              |50.98        |0           |0                    |1                    |1                  |45.32666666666666    |3                |59.61624999999998    |24               |59.56688679245282     |106               |1                 |0.000000       |1                 |0.000000       |21                 |0.000000        |\n",
      "|518175            |2019-05-25 00:05:55  |2732           |5539           |4665955            |54              |6.01         |0           |0                    |1                    |1                  |10.295               |2                |30.301250000000007   |16               |29.974927536231892    |69                |0                 |0.000000       |0                 |0.000000       |27                 |0.000000        |\n",
      "|518176            |2019-05-25 00:06:24  |288            |6475           |4665984            |54              |70.53        |0           |0                    |1                    |1                  |90.76599999999999    |10               |80.72486486486491    |37               |83.1852272727273      |132               |3                 |0.000000       |3                 |0.000000       |41                 |0.000000        |\n",
      "|518177            |2019-05-25 00:06:28  |1998           |924            |4665988            |54              |37.03        |0           |0                    |1                    |1                  |60.624               |5                |57.55718749999997    |32               |74.09761538461544     |130               |0                 |0.000000       |0                 |0.000000       |15                 |0.000000        |\n",
      "|518178            |2019-05-25 00:08:21  |3120           |7211           |4666101            |54              |2.48         |0           |0                    |1                    |1                  |6.406666666666667    |3                |8.25300000000001     |10               |14.372599999999991    |50                |1                 |0.000000       |1                 |0.000000       |26                 |0.038462        |\n",
      "-----------------------------------------------------------------------------------------------------------------------------------------------------------------------------------------------------------------------------------------------------------------------------------------------------------------------------------------------------------------------------------------------------------------------------------------------\n",
      "\n"
     ]
    }
   ],
   "source": [
    "# We will not use the full data set for training/test\n",
    "start_date_training = datetime.datetime.strptime(\"2019-05-25\", \"%Y-%m-%d\")\n",
    "delta_train = delta_delay = delta_test = 7 # Number of days in train, delay and test data sets\n",
    "end_date_data = start_date_training+datetime.timedelta(days=delta_train+delta_delay+delta_test+1)\n",
    "\n",
    "# Using Zero-Copy Cloning feature to keep a copy of the data being used for each training\n",
    "\n",
    "now = datetime.datetime.now()\n",
    "s = now.strftime(\"%Y_%m_%d__%H_%M_%S\")\n",
    "print (s);\n",
    "\n",
    "origin_table_name = \"CUSTOMER_TRX_FRAUD_FEATURES\"\n",
    "cloned_table_name = \"CUSTOMER_TRX_FRAUD_FEATURES_\" + s\n",
    "\n",
    "sql = \"create table \" + cloned_table_name + \" clone \" + origin_table_name\n",
    "\n",
    "session.sql(sql).collect()\n",
    "print (\"Using Table: \", cloned_table_name)\n",
    "df_trx = session.table(cloned_table_name).filter((F.col(\"TX_DATETIME\") <= F.to_date(F.lit(end_date_data))) & (F.col(\"TX_DATETIME\") >= F.to_date(F.lit(start_date_training)))).sort(F.col(\"TX_DATETIME\"))\n",
    "df_trx.show()"
   ]
  },
  {
   "cell_type": "code",
   "execution_count": 9,
   "metadata": {},
   "outputs": [
    {
     "data": {
      "text/plain": [
       "210586"
      ]
     },
     "execution_count": 9,
     "metadata": {},
     "output_type": "execute_result"
    }
   ],
   "source": [
    "df_trx.count()"
   ]
  },
  {
   "cell_type": "markdown",
   "metadata": {},
   "source": [
    "We can get some statistics on our numeric columns by using the **describe**. We are using **to_pandas** to get back the result (5 rows) as a pndas dataframe to use it's printing capabilities"
   ]
  },
  {
   "cell_type": "code",
   "execution_count": 10,
   "metadata": {},
   "outputs": [
    {
     "data": {
      "text/html": [
       "<div>\n",
       "<style scoped>\n",
       "    .dataframe tbody tr th:only-of-type {\n",
       "        vertical-align: middle;\n",
       "    }\n",
       "\n",
       "    .dataframe tbody tr th {\n",
       "        vertical-align: top;\n",
       "    }\n",
       "\n",
       "    .dataframe thead th {\n",
       "        text-align: right;\n",
       "    }\n",
       "</style>\n",
       "<table border=\"1\" class=\"dataframe\">\n",
       "  <thead>\n",
       "    <tr style=\"text-align: right;\">\n",
       "      <th></th>\n",
       "      <th>SUMMARY</th>\n",
       "      <th>TRANSACTION_ID</th>\n",
       "      <th>CUSTOMER_ID</th>\n",
       "      <th>TERMINAL_ID</th>\n",
       "      <th>TX_TIME_SECONDS</th>\n",
       "      <th>TX_TIME_DAYS</th>\n",
       "      <th>TX_AMOUNT</th>\n",
       "      <th>TX_FRAUD</th>\n",
       "      <th>TX_FRAUD_SCENARIO</th>\n",
       "      <th>TX_DURING_WEEKEND</th>\n",
       "      <th>TX_DURING_NIGHT</th>\n",
       "      <th>CUST_AVG_AMOUNT_1</th>\n",
       "      <th>CUST_CNT_TX_1</th>\n",
       "      <th>CUST_AVG_AMOUNT_7</th>\n",
       "      <th>CUST_CNT_TX_7</th>\n",
       "      <th>CUST_AVG_AMOUNT_30</th>\n",
       "      <th>CUST_CNT_TX_30</th>\n",
       "      <th>NB_TX_WINDOW_1</th>\n",
       "      <th>TERM_RISK_1</th>\n",
       "      <th>NB_TX_WINDOW_7</th>\n",
       "      <th>TERM_RISK_7</th>\n",
       "      <th>NB_TX_WINDOW_30</th>\n",
       "      <th>TERM_RISK_30</th>\n",
       "    </tr>\n",
       "  </thead>\n",
       "  <tbody>\n",
       "    <tr>\n",
       "      <th>0</th>\n",
       "      <td>mean</td>\n",
       "      <td>623461.500000</td>\n",
       "      <td>2502.883568</td>\n",
       "      <td>4986.689732</td>\n",
       "      <td>5.615424e+06</td>\n",
       "      <td>64.493399</td>\n",
       "      <td>53.723113</td>\n",
       "      <td>0.008457</td>\n",
       "      <td>0.019080</td>\n",
       "      <td>0.318117</td>\n",
       "      <td>0.165861</td>\n",
       "      <td>53.758565</td>\n",
       "      <td>4.846880</td>\n",
       "      <td>53.740382</td>\n",
       "      <td>20.233506</td>\n",
       "      <td>53.663414</td>\n",
       "      <td>79.409424</td>\n",
       "      <td>1.001216</td>\n",
       "      <td>0.005436</td>\n",
       "      <td>1.001216</td>\n",
       "      <td>0.005436</td>\n",
       "      <td>30.049557</td>\n",
       "      <td>0.009134</td>\n",
       "    </tr>\n",
       "    <tr>\n",
       "      <th>1</th>\n",
       "      <td>stddev</td>\n",
       "      <td>60791.086231</td>\n",
       "      <td>1446.062354</td>\n",
       "      <td>2883.322709</td>\n",
       "      <td>5.488030e+05</td>\n",
       "      <td>6.349058</td>\n",
       "      <td>42.223160</td>\n",
       "      <td>0.091575</td>\n",
       "      <td>0.212702</td>\n",
       "      <td>0.465747</td>\n",
       "      <td>0.371957</td>\n",
       "      <td>33.820563</td>\n",
       "      <td>2.525196</td>\n",
       "      <td>30.512374</td>\n",
       "      <td>8.200933</td>\n",
       "      <td>29.235383</td>\n",
       "      <td>29.477259</td>\n",
       "      <td>1.022940</td>\n",
       "      <td>0.070231</td>\n",
       "      <td>1.022940</td>\n",
       "      <td>0.070231</td>\n",
       "      <td>8.303712</td>\n",
       "      <td>0.062436</td>\n",
       "    </tr>\n",
       "    <tr>\n",
       "      <th>2</th>\n",
       "      <td>count</td>\n",
       "      <td>210586.000000</td>\n",
       "      <td>210586.000000</td>\n",
       "      <td>210586.000000</td>\n",
       "      <td>2.105860e+05</td>\n",
       "      <td>210586.000000</td>\n",
       "      <td>210586.000000</td>\n",
       "      <td>210586.000000</td>\n",
       "      <td>210586.000000</td>\n",
       "      <td>210586.000000</td>\n",
       "      <td>210586.000000</td>\n",
       "      <td>210586.000000</td>\n",
       "      <td>210586.000000</td>\n",
       "      <td>210586.000000</td>\n",
       "      <td>210586.000000</td>\n",
       "      <td>210586.000000</td>\n",
       "      <td>210586.000000</td>\n",
       "      <td>210586.000000</td>\n",
       "      <td>210586.000000</td>\n",
       "      <td>210586.000000</td>\n",
       "      <td>210586.000000</td>\n",
       "      <td>210586.000000</td>\n",
       "      <td>210586.000000</td>\n",
       "    </tr>\n",
       "    <tr>\n",
       "      <th>3</th>\n",
       "      <td>min</td>\n",
       "      <td>518169.000000</td>\n",
       "      <td>0.000000</td>\n",
       "      <td>0.000000</td>\n",
       "      <td>4.665628e+06</td>\n",
       "      <td>54.000000</td>\n",
       "      <td>0.000000</td>\n",
       "      <td>0.000000</td>\n",
       "      <td>0.000000</td>\n",
       "      <td>0.000000</td>\n",
       "      <td>0.000000</td>\n",
       "      <td>0.020000</td>\n",
       "      <td>1.000000</td>\n",
       "      <td>0.020000</td>\n",
       "      <td>1.000000</td>\n",
       "      <td>3.672000</td>\n",
       "      <td>1.000000</td>\n",
       "      <td>0.000000</td>\n",
       "      <td>0.000000</td>\n",
       "      <td>0.000000</td>\n",
       "      <td>0.000000</td>\n",
       "      <td>5.000000</td>\n",
       "      <td>0.000000</td>\n",
       "    </tr>\n",
       "    <tr>\n",
       "      <th>4</th>\n",
       "      <td>max</td>\n",
       "      <td>728754.000000</td>\n",
       "      <td>4999.000000</td>\n",
       "      <td>9999.000000</td>\n",
       "      <td>6.566378e+06</td>\n",
       "      <td>75.000000</td>\n",
       "      <td>1066.800000</td>\n",
       "      <td>1.000000</td>\n",
       "      <td>3.000000</td>\n",
       "      <td>1.000000</td>\n",
       "      <td>1.000000</td>\n",
       "      <td>914.150000</td>\n",
       "      <td>22.000000</td>\n",
       "      <td>397.635714</td>\n",
       "      <td>56.000000</td>\n",
       "      <td>219.933750</td>\n",
       "      <td>158.000000</td>\n",
       "      <td>9.000000</td>\n",
       "      <td>1.000000</td>\n",
       "      <td>9.000000</td>\n",
       "      <td>1.000000</td>\n",
       "      <td>76.000000</td>\n",
       "      <td>1.000000</td>\n",
       "    </tr>\n",
       "  </tbody>\n",
       "</table>\n",
       "</div>"
      ],
      "text/plain": [
       "  SUMMARY  TRANSACTION_ID    CUSTOMER_ID    TERMINAL_ID  TX_TIME_SECONDS  \\\n",
       "0    mean   623461.500000    2502.883568    4986.689732     5.615424e+06   \n",
       "1  stddev    60791.086231    1446.062354    2883.322709     5.488030e+05   \n",
       "2   count   210586.000000  210586.000000  210586.000000     2.105860e+05   \n",
       "3     min   518169.000000       0.000000       0.000000     4.665628e+06   \n",
       "4     max   728754.000000    4999.000000    9999.000000     6.566378e+06   \n",
       "\n",
       "    TX_TIME_DAYS      TX_AMOUNT       TX_FRAUD  TX_FRAUD_SCENARIO  \\\n",
       "0      64.493399      53.723113       0.008457           0.019080   \n",
       "1       6.349058      42.223160       0.091575           0.212702   \n",
       "2  210586.000000  210586.000000  210586.000000      210586.000000   \n",
       "3      54.000000       0.000000       0.000000           0.000000   \n",
       "4      75.000000    1066.800000       1.000000           3.000000   \n",
       "\n",
       "   TX_DURING_WEEKEND  TX_DURING_NIGHT  CUST_AVG_AMOUNT_1  CUST_CNT_TX_1  \\\n",
       "0           0.318117         0.165861          53.758565       4.846880   \n",
       "1           0.465747         0.371957          33.820563       2.525196   \n",
       "2      210586.000000    210586.000000      210586.000000  210586.000000   \n",
       "3           0.000000         0.000000           0.020000       1.000000   \n",
       "4           1.000000         1.000000         914.150000      22.000000   \n",
       "\n",
       "   CUST_AVG_AMOUNT_7  CUST_CNT_TX_7  CUST_AVG_AMOUNT_30  CUST_CNT_TX_30  \\\n",
       "0          53.740382      20.233506           53.663414       79.409424   \n",
       "1          30.512374       8.200933           29.235383       29.477259   \n",
       "2      210586.000000  210586.000000       210586.000000   210586.000000   \n",
       "3           0.020000       1.000000            3.672000        1.000000   \n",
       "4         397.635714      56.000000          219.933750      158.000000   \n",
       "\n",
       "   NB_TX_WINDOW_1    TERM_RISK_1  NB_TX_WINDOW_7    TERM_RISK_7  \\\n",
       "0        1.001216       0.005436        1.001216       0.005436   \n",
       "1        1.022940       0.070231        1.022940       0.070231   \n",
       "2   210586.000000  210586.000000   210586.000000  210586.000000   \n",
       "3        0.000000       0.000000        0.000000       0.000000   \n",
       "4        9.000000       1.000000        9.000000       1.000000   \n",
       "\n",
       "   NB_TX_WINDOW_30   TERM_RISK_30  \n",
       "0        30.049557       0.009134  \n",
       "1         8.303712       0.062436  \n",
       "2    210586.000000  210586.000000  \n",
       "3         5.000000       0.000000  \n",
       "4        76.000000       1.000000  "
      ]
     },
     "execution_count": 10,
     "metadata": {},
     "output_type": "execute_result"
    }
   ],
   "source": [
    "df_trx.describe().to_pandas()"
   ]
  },
  {
   "cell_type": "markdown",
   "metadata": {},
   "source": [
    "We could also check if any of our columns are highly correlated with each other.\n",
    "Snowpark does have a correlation function, but not a correlation matrix function, but since we are using Python we can write a function that generates a correlation matrix without puliing back data from Snowflake"
   ]
  },
  {
   "cell_type": "code",
   "execution_count": 11,
   "metadata": {
    "tags": []
   },
   "outputs": [],
   "source": [
    "def corr_matrix(df):\n",
    "    # Pick out only those columns that has numeric data type\n",
    "    numeric_types = [T.DecimalType, T.LongType, T.DoubleType, T.FloatType, T.IntegerType]\n",
    "    cols = [c.name for c in df.schema.fields if type(c.datatype) in numeric_types]\n",
    "    cols2 = cols.copy()\n",
    "    res_df = None\n",
    "    for col in cols:\n",
    "        corr_df = (df.agg([F.corr(col, y) for y in cols2])\n",
    "                   .toDF(cols2)\n",
    "                   .select(F.lit(col).as_(\"COLUMN\"), *cols2))\n",
    "        res_df = res_df.union(corr_df) if res_df else corr_df\n",
    "\n",
    "    return res_df"
   ]
  },
  {
   "cell_type": "code",
   "execution_count": 12,
   "metadata": {},
   "outputs": [
    {
     "data": {
      "text/html": [
       "<div>\n",
       "<style scoped>\n",
       "    .dataframe tbody tr th:only-of-type {\n",
       "        vertical-align: middle;\n",
       "    }\n",
       "\n",
       "    .dataframe tbody tr th {\n",
       "        vertical-align: top;\n",
       "    }\n",
       "\n",
       "    .dataframe thead th {\n",
       "        text-align: right;\n",
       "    }\n",
       "</style>\n",
       "<table border=\"1\" class=\"dataframe\">\n",
       "  <thead>\n",
       "    <tr style=\"text-align: right;\">\n",
       "      <th></th>\n",
       "      <th>COLUMN</th>\n",
       "      <th>TX_AMOUNT</th>\n",
       "      <th>TX_DURING_WEEKEND</th>\n",
       "      <th>TX_DURING_NIGHT</th>\n",
       "      <th>CUST_CNT_TX_1</th>\n",
       "      <th>CUST_AVG_AMOUNT_1</th>\n",
       "      <th>CUST_CNT_TX_7</th>\n",
       "      <th>CUST_AVG_AMOUNT_7</th>\n",
       "      <th>CUST_CNT_TX_30</th>\n",
       "      <th>CUST_AVG_AMOUNT_30</th>\n",
       "      <th>NB_TX_WINDOW_1</th>\n",
       "      <th>TERM_RISK_1</th>\n",
       "      <th>NB_TX_WINDOW_7</th>\n",
       "      <th>TERM_RISK_7</th>\n",
       "      <th>NB_TX_WINDOW_30</th>\n",
       "      <th>TERM_RISK_30</th>\n",
       "      <th>TX_FRAUD</th>\n",
       "    </tr>\n",
       "  </thead>\n",
       "  <tbody>\n",
       "    <tr>\n",
       "      <th>0</th>\n",
       "      <td>CUST_CNT_TX_1</td>\n",
       "      <td>0.000264</td>\n",
       "      <td>-0.001673</td>\n",
       "      <td>-0.102883</td>\n",
       "      <td>1.000000</td>\n",
       "      <td>0.000703</td>\n",
       "      <td>0.676873</td>\n",
       "      <td>0.002698</td>\n",
       "      <td>0.582905</td>\n",
       "      <td>0.004174</td>\n",
       "      <td>0.004104</td>\n",
       "      <td>0.002365</td>\n",
       "      <td>0.004104</td>\n",
       "      <td>0.002365</td>\n",
       "      <td>0.023179</td>\n",
       "      <td>-0.000466</td>\n",
       "      <td>-0.001752</td>\n",
       "    </tr>\n",
       "    <tr>\n",
       "      <th>1</th>\n",
       "      <td>NB_TX_WINDOW_1</td>\n",
       "      <td>-0.002345</td>\n",
       "      <td>-0.000343</td>\n",
       "      <td>-0.002801</td>\n",
       "      <td>0.004104</td>\n",
       "      <td>-0.001295</td>\n",
       "      <td>0.007062</td>\n",
       "      <td>0.000990</td>\n",
       "      <td>0.010117</td>\n",
       "      <td>-0.000717</td>\n",
       "      <td>1.000000</td>\n",
       "      <td>0.047974</td>\n",
       "      <td>1.000000</td>\n",
       "      <td>0.047974</td>\n",
       "      <td>0.266378</td>\n",
       "      <td>0.003829</td>\n",
       "      <td>-0.002898</td>\n",
       "    </tr>\n",
       "    <tr>\n",
       "      <th>2</th>\n",
       "      <td>CUST_AVG_AMOUNT_7</td>\n",
       "      <td>0.721538</td>\n",
       "      <td>-0.001924</td>\n",
       "      <td>-0.003950</td>\n",
       "      <td>0.002698</td>\n",
       "      <td>0.902801</td>\n",
       "      <td>0.000875</td>\n",
       "      <td>1.000000</td>\n",
       "      <td>0.000464</td>\n",
       "      <td>0.959123</td>\n",
       "      <td>0.000990</td>\n",
       "      <td>0.001952</td>\n",
       "      <td>0.000990</td>\n",
       "      <td>0.001952</td>\n",
       "      <td>-0.004632</td>\n",
       "      <td>0.002388</td>\n",
       "      <td>0.065752</td>\n",
       "    </tr>\n",
       "    <tr>\n",
       "      <th>3</th>\n",
       "      <td>CUST_AVG_AMOUNT_30</td>\n",
       "      <td>0.690446</td>\n",
       "      <td>-0.001763</td>\n",
       "      <td>-0.004545</td>\n",
       "      <td>0.004174</td>\n",
       "      <td>0.863430</td>\n",
       "      <td>0.005116</td>\n",
       "      <td>0.959123</td>\n",
       "      <td>0.004384</td>\n",
       "      <td>1.000000</td>\n",
       "      <td>-0.000717</td>\n",
       "      <td>0.001605</td>\n",
       "      <td>-0.000717</td>\n",
       "      <td>0.001605</td>\n",
       "      <td>-0.005812</td>\n",
       "      <td>0.002397</td>\n",
       "      <td>0.024692</td>\n",
       "    </tr>\n",
       "    <tr>\n",
       "      <th>4</th>\n",
       "      <td>NB_TX_WINDOW_7</td>\n",
       "      <td>-0.002345</td>\n",
       "      <td>-0.000343</td>\n",
       "      <td>-0.002801</td>\n",
       "      <td>0.004104</td>\n",
       "      <td>-0.001295</td>\n",
       "      <td>0.007062</td>\n",
       "      <td>0.000990</td>\n",
       "      <td>0.010117</td>\n",
       "      <td>-0.000717</td>\n",
       "      <td>1.000000</td>\n",
       "      <td>0.047974</td>\n",
       "      <td>1.000000</td>\n",
       "      <td>0.047974</td>\n",
       "      <td>0.266378</td>\n",
       "      <td>0.003829</td>\n",
       "      <td>-0.002898</td>\n",
       "    </tr>\n",
       "    <tr>\n",
       "      <th>5</th>\n",
       "      <td>NB_TX_WINDOW_30</td>\n",
       "      <td>-0.004276</td>\n",
       "      <td>-0.002346</td>\n",
       "      <td>-0.000094</td>\n",
       "      <td>0.023179</td>\n",
       "      <td>-0.004756</td>\n",
       "      <td>0.034912</td>\n",
       "      <td>-0.004632</td>\n",
       "      <td>0.041920</td>\n",
       "      <td>-0.005812</td>\n",
       "      <td>0.266378</td>\n",
       "      <td>0.011482</td>\n",
       "      <td>0.266378</td>\n",
       "      <td>0.011482</td>\n",
       "      <td>1.000000</td>\n",
       "      <td>0.001936</td>\n",
       "      <td>-0.000863</td>\n",
       "    </tr>\n",
       "    <tr>\n",
       "      <th>6</th>\n",
       "      <td>CUST_CNT_TX_7</td>\n",
       "      <td>-0.000048</td>\n",
       "      <td>0.000191</td>\n",
       "      <td>-0.033057</td>\n",
       "      <td>0.676873</td>\n",
       "      <td>-0.001527</td>\n",
       "      <td>1.000000</td>\n",
       "      <td>0.000875</td>\n",
       "      <td>0.883685</td>\n",
       "      <td>0.005116</td>\n",
       "      <td>0.007062</td>\n",
       "      <td>0.003238</td>\n",
       "      <td>0.007062</td>\n",
       "      <td>0.003238</td>\n",
       "      <td>0.034912</td>\n",
       "      <td>0.000874</td>\n",
       "      <td>-0.001536</td>\n",
       "    </tr>\n",
       "    <tr>\n",
       "      <th>7</th>\n",
       "      <td>TX_DURING_WEEKEND</td>\n",
       "      <td>-0.000487</td>\n",
       "      <td>1.000000</td>\n",
       "      <td>0.001310</td>\n",
       "      <td>-0.001673</td>\n",
       "      <td>-0.000727</td>\n",
       "      <td>0.000191</td>\n",
       "      <td>-0.001924</td>\n",
       "      <td>-0.000579</td>\n",
       "      <td>-0.001763</td>\n",
       "      <td>-0.000343</td>\n",
       "      <td>-0.002538</td>\n",
       "      <td>-0.000343</td>\n",
       "      <td>-0.002538</td>\n",
       "      <td>-0.002346</td>\n",
       "      <td>0.001613</td>\n",
       "      <td>-0.000397</td>\n",
       "    </tr>\n",
       "    <tr>\n",
       "      <th>8</th>\n",
       "      <td>TX_DURING_NIGHT</td>\n",
       "      <td>-0.001196</td>\n",
       "      <td>0.001310</td>\n",
       "      <td>1.000000</td>\n",
       "      <td>-0.102883</td>\n",
       "      <td>-0.002754</td>\n",
       "      <td>-0.033057</td>\n",
       "      <td>-0.003950</td>\n",
       "      <td>-0.011464</td>\n",
       "      <td>-0.004545</td>\n",
       "      <td>-0.002801</td>\n",
       "      <td>0.000755</td>\n",
       "      <td>-0.002801</td>\n",
       "      <td>0.000755</td>\n",
       "      <td>-0.000094</td>\n",
       "      <td>-0.003141</td>\n",
       "      <td>-0.003123</td>\n",
       "    </tr>\n",
       "    <tr>\n",
       "      <th>9</th>\n",
       "      <td>TERM_RISK_1</td>\n",
       "      <td>-0.001476</td>\n",
       "      <td>-0.002538</td>\n",
       "      <td>0.000755</td>\n",
       "      <td>0.002365</td>\n",
       "      <td>-0.000190</td>\n",
       "      <td>0.003238</td>\n",
       "      <td>0.001952</td>\n",
       "      <td>0.002212</td>\n",
       "      <td>0.001605</td>\n",
       "      <td>0.047974</td>\n",
       "      <td>1.000000</td>\n",
       "      <td>0.047974</td>\n",
       "      <td>1.000000</td>\n",
       "      <td>0.011482</td>\n",
       "      <td>0.420066</td>\n",
       "      <td>0.364459</td>\n",
       "    </tr>\n",
       "    <tr>\n",
       "      <th>10</th>\n",
       "      <td>TERM_RISK_7</td>\n",
       "      <td>-0.001476</td>\n",
       "      <td>-0.002538</td>\n",
       "      <td>0.000755</td>\n",
       "      <td>0.002365</td>\n",
       "      <td>-0.000190</td>\n",
       "      <td>0.003238</td>\n",
       "      <td>0.001952</td>\n",
       "      <td>0.002212</td>\n",
       "      <td>0.001605</td>\n",
       "      <td>0.047974</td>\n",
       "      <td>1.000000</td>\n",
       "      <td>0.047974</td>\n",
       "      <td>1.000000</td>\n",
       "      <td>0.011482</td>\n",
       "      <td>0.420066</td>\n",
       "      <td>0.364459</td>\n",
       "    </tr>\n",
       "    <tr>\n",
       "      <th>11</th>\n",
       "      <td>CUST_AVG_AMOUNT_1</td>\n",
       "      <td>0.801238</td>\n",
       "      <td>-0.000727</td>\n",
       "      <td>-0.002754</td>\n",
       "      <td>0.000703</td>\n",
       "      <td>1.000000</td>\n",
       "      <td>-0.001527</td>\n",
       "      <td>0.902801</td>\n",
       "      <td>-0.000601</td>\n",
       "      <td>0.863430</td>\n",
       "      <td>-0.001295</td>\n",
       "      <td>-0.000190</td>\n",
       "      <td>-0.001295</td>\n",
       "      <td>-0.000190</td>\n",
       "      <td>-0.004756</td>\n",
       "      <td>0.001477</td>\n",
       "      <td>0.097570</td>\n",
       "    </tr>\n",
       "    <tr>\n",
       "      <th>12</th>\n",
       "      <td>CUST_CNT_TX_30</td>\n",
       "      <td>0.000103</td>\n",
       "      <td>-0.000579</td>\n",
       "      <td>-0.011464</td>\n",
       "      <td>0.582905</td>\n",
       "      <td>-0.000601</td>\n",
       "      <td>0.883685</td>\n",
       "      <td>0.000464</td>\n",
       "      <td>1.000000</td>\n",
       "      <td>0.004384</td>\n",
       "      <td>0.010117</td>\n",
       "      <td>0.002212</td>\n",
       "      <td>0.010117</td>\n",
       "      <td>0.002212</td>\n",
       "      <td>0.041920</td>\n",
       "      <td>0.000871</td>\n",
       "      <td>-0.001033</td>\n",
       "    </tr>\n",
       "    <tr>\n",
       "      <th>13</th>\n",
       "      <td>TERM_RISK_30</td>\n",
       "      <td>0.001264</td>\n",
       "      <td>0.001613</td>\n",
       "      <td>-0.003141</td>\n",
       "      <td>-0.000466</td>\n",
       "      <td>0.001477</td>\n",
       "      <td>0.000874</td>\n",
       "      <td>0.002388</td>\n",
       "      <td>0.000871</td>\n",
       "      <td>0.002397</td>\n",
       "      <td>0.003829</td>\n",
       "      <td>0.420066</td>\n",
       "      <td>0.003829</td>\n",
       "      <td>0.420066</td>\n",
       "      <td>0.001936</td>\n",
       "      <td>1.000000</td>\n",
       "      <td>0.232886</td>\n",
       "    </tr>\n",
       "    <tr>\n",
       "      <th>14</th>\n",
       "      <td>TX_FRAUD</td>\n",
       "      <td>0.157862</td>\n",
       "      <td>-0.000397</td>\n",
       "      <td>-0.003123</td>\n",
       "      <td>-0.001752</td>\n",
       "      <td>0.097570</td>\n",
       "      <td>-0.001536</td>\n",
       "      <td>0.065752</td>\n",
       "      <td>-0.001033</td>\n",
       "      <td>0.024692</td>\n",
       "      <td>-0.002898</td>\n",
       "      <td>0.364459</td>\n",
       "      <td>-0.002898</td>\n",
       "      <td>0.364459</td>\n",
       "      <td>-0.000863</td>\n",
       "      <td>0.232886</td>\n",
       "      <td>1.000000</td>\n",
       "    </tr>\n",
       "    <tr>\n",
       "      <th>15</th>\n",
       "      <td>TX_AMOUNT</td>\n",
       "      <td>1.000000</td>\n",
       "      <td>-0.000487</td>\n",
       "      <td>-0.001196</td>\n",
       "      <td>0.000264</td>\n",
       "      <td>0.801238</td>\n",
       "      <td>-0.000048</td>\n",
       "      <td>0.721538</td>\n",
       "      <td>0.000103</td>\n",
       "      <td>0.690446</td>\n",
       "      <td>-0.002345</td>\n",
       "      <td>-0.001476</td>\n",
       "      <td>-0.002345</td>\n",
       "      <td>-0.001476</td>\n",
       "      <td>-0.004276</td>\n",
       "      <td>0.001264</td>\n",
       "      <td>0.157862</td>\n",
       "    </tr>\n",
       "  </tbody>\n",
       "</table>\n",
       "</div>"
      ],
      "text/plain": [
       "                COLUMN  TX_AMOUNT  TX_DURING_WEEKEND  TX_DURING_NIGHT  \\\n",
       "0        CUST_CNT_TX_1   0.000264          -0.001673        -0.102883   \n",
       "1       NB_TX_WINDOW_1  -0.002345          -0.000343        -0.002801   \n",
       "2    CUST_AVG_AMOUNT_7   0.721538          -0.001924        -0.003950   \n",
       "3   CUST_AVG_AMOUNT_30   0.690446          -0.001763        -0.004545   \n",
       "4       NB_TX_WINDOW_7  -0.002345          -0.000343        -0.002801   \n",
       "5      NB_TX_WINDOW_30  -0.004276          -0.002346        -0.000094   \n",
       "6        CUST_CNT_TX_7  -0.000048           0.000191        -0.033057   \n",
       "7    TX_DURING_WEEKEND  -0.000487           1.000000         0.001310   \n",
       "8      TX_DURING_NIGHT  -0.001196           0.001310         1.000000   \n",
       "9          TERM_RISK_1  -0.001476          -0.002538         0.000755   \n",
       "10         TERM_RISK_7  -0.001476          -0.002538         0.000755   \n",
       "11   CUST_AVG_AMOUNT_1   0.801238          -0.000727        -0.002754   \n",
       "12      CUST_CNT_TX_30   0.000103          -0.000579        -0.011464   \n",
       "13        TERM_RISK_30   0.001264           0.001613        -0.003141   \n",
       "14            TX_FRAUD   0.157862          -0.000397        -0.003123   \n",
       "15           TX_AMOUNT   1.000000          -0.000487        -0.001196   \n",
       "\n",
       "    CUST_CNT_TX_1  CUST_AVG_AMOUNT_1  CUST_CNT_TX_7  CUST_AVG_AMOUNT_7  \\\n",
       "0        1.000000           0.000703       0.676873           0.002698   \n",
       "1        0.004104          -0.001295       0.007062           0.000990   \n",
       "2        0.002698           0.902801       0.000875           1.000000   \n",
       "3        0.004174           0.863430       0.005116           0.959123   \n",
       "4        0.004104          -0.001295       0.007062           0.000990   \n",
       "5        0.023179          -0.004756       0.034912          -0.004632   \n",
       "6        0.676873          -0.001527       1.000000           0.000875   \n",
       "7       -0.001673          -0.000727       0.000191          -0.001924   \n",
       "8       -0.102883          -0.002754      -0.033057          -0.003950   \n",
       "9        0.002365          -0.000190       0.003238           0.001952   \n",
       "10       0.002365          -0.000190       0.003238           0.001952   \n",
       "11       0.000703           1.000000      -0.001527           0.902801   \n",
       "12       0.582905          -0.000601       0.883685           0.000464   \n",
       "13      -0.000466           0.001477       0.000874           0.002388   \n",
       "14      -0.001752           0.097570      -0.001536           0.065752   \n",
       "15       0.000264           0.801238      -0.000048           0.721538   \n",
       "\n",
       "    CUST_CNT_TX_30  CUST_AVG_AMOUNT_30  NB_TX_WINDOW_1  TERM_RISK_1  \\\n",
       "0         0.582905            0.004174        0.004104     0.002365   \n",
       "1         0.010117           -0.000717        1.000000     0.047974   \n",
       "2         0.000464            0.959123        0.000990     0.001952   \n",
       "3         0.004384            1.000000       -0.000717     0.001605   \n",
       "4         0.010117           -0.000717        1.000000     0.047974   \n",
       "5         0.041920           -0.005812        0.266378     0.011482   \n",
       "6         0.883685            0.005116        0.007062     0.003238   \n",
       "7        -0.000579           -0.001763       -0.000343    -0.002538   \n",
       "8        -0.011464           -0.004545       -0.002801     0.000755   \n",
       "9         0.002212            0.001605        0.047974     1.000000   \n",
       "10        0.002212            0.001605        0.047974     1.000000   \n",
       "11       -0.000601            0.863430       -0.001295    -0.000190   \n",
       "12        1.000000            0.004384        0.010117     0.002212   \n",
       "13        0.000871            0.002397        0.003829     0.420066   \n",
       "14       -0.001033            0.024692       -0.002898     0.364459   \n",
       "15        0.000103            0.690446       -0.002345    -0.001476   \n",
       "\n",
       "    NB_TX_WINDOW_7  TERM_RISK_7  NB_TX_WINDOW_30  TERM_RISK_30  TX_FRAUD  \n",
       "0         0.004104     0.002365         0.023179     -0.000466 -0.001752  \n",
       "1         1.000000     0.047974         0.266378      0.003829 -0.002898  \n",
       "2         0.000990     0.001952        -0.004632      0.002388  0.065752  \n",
       "3        -0.000717     0.001605        -0.005812      0.002397  0.024692  \n",
       "4         1.000000     0.047974         0.266378      0.003829 -0.002898  \n",
       "5         0.266378     0.011482         1.000000      0.001936 -0.000863  \n",
       "6         0.007062     0.003238         0.034912      0.000874 -0.001536  \n",
       "7        -0.000343    -0.002538        -0.002346      0.001613 -0.000397  \n",
       "8        -0.002801     0.000755        -0.000094     -0.003141 -0.003123  \n",
       "9         0.047974     1.000000         0.011482      0.420066  0.364459  \n",
       "10        0.047974     1.000000         0.011482      0.420066  0.364459  \n",
       "11       -0.001295    -0.000190        -0.004756      0.001477  0.097570  \n",
       "12        0.010117     0.002212         0.041920      0.000871 -0.001033  \n",
       "13        0.003829     0.420066         0.001936      1.000000  0.232886  \n",
       "14       -0.002898     0.364459        -0.000863      0.232886  1.000000  \n",
       "15       -0.002345    -0.001476        -0.004276      0.001264  0.157862  "
      ]
     },
     "execution_count": 12,
     "metadata": {},
     "output_type": "execute_result"
    }
   ],
   "source": [
    "corr_matrix(df_trx.select(['TX_AMOUNT','TX_DURING_WEEKEND', 'TX_DURING_NIGHT', 'CUST_CNT_TX_1',\n",
    "       'CUST_AVG_AMOUNT_1', 'CUST_CNT_TX_7', 'CUST_AVG_AMOUNT_7', 'CUST_CNT_TX_30',\n",
    "       'CUST_AVG_AMOUNT_30', 'NB_TX_WINDOW_1', 'TERM_RISK_1', 'NB_TX_WINDOW_7','TERM_RISK_7',\n",
    "        'NB_TX_WINDOW_30','TERM_RISK_30', 'TX_FRAUD'])).to_pandas()"
   ]
  },
  {
   "cell_type": "markdown",
   "metadata": {},
   "source": [
    "## Split data in training and testing data sets\n",
    "\n",
    "The training set aims at training a prediction model, while the test set aims at evaluating the performance of the prediction model on new data. In a fraud detection context, the transactions of the test set occur chronologically after the transactions used for training the model.\n",
    "\n",
    "It is worth noting that we choose our test set to take place one week after the last transaction of the training set. In a fraud detection context, this period separating the training and test set is referred to as the delay period or feedback delay. It accounts for the fact that, in a real-world fraud detection system, the label of a transaction (fraudulent or genuine) is only known after a customer complaint, or thanks to the result of a fraud investigation. Therefore, in a realistic scenario, the annotated data available to train a model and start making prediction for a given day are anterior to that day minus the delay period. Setting a delay period of one week is simplistic. It assumes that the labels (fraudulent or genuine) for all transactions are known exactly one week after they occurred. \n",
    "\n",
    "The function below is creating two Snowpark data frames that will return the training and test data sets."
   ]
  },
  {
   "cell_type": "code",
   "execution_count": 13,
   "metadata": {},
   "outputs": [],
   "source": [
    "def get_train_test_set(transactions_df,\n",
    "                       start_date_training,\n",
    "                       delta_train=7,delta_delay=7,delta_test=7):\n",
    "    \n",
    "    # Get the training set data\n",
    "    # Training data is not based on sampling but on a time period\n",
    "    \n",
    "    train_df = transactions_df.filter((F.col(\"TX_DATETIME\") >= F.lit(start_date_training)) & (F.col(\"TX_DATETIME\") <= F.lit(start_date_training+datetime.timedelta(days=delta_train))))\n",
    "    # Get the test set data\n",
    "    test_dfs = []\n",
    "    \n",
    "    # Note: Cards known to be frauded after the delay period are removed from the test set\n",
    "    # That is, for each test day, all frauds known at (test_day-delay_period) are removed\n",
    "    \n",
    "    # First, get known frauded customers from the training set\n",
    "    known_frauded_customers = train_df.filter(F.col(\"TX_FRAUD\")==F.lit(1)).select(F.col(\"CUSTOMER_ID\"))\n",
    "    \n",
    "    # Get the relative starting day of training set (easier than TX_DATETIME to collect test data)\n",
    "    start_tx_time_days_training = int(train_df.select(F.min(F.col(\"TX_TIME_DAYS\"))).to_pandas()['MIN(\"TX_TIME_DAYS\")'].values[0])\n",
    "    # Then, for each day of the test set\n",
    "    # Get the customers/cards that was not known in the training data and in the delayperiod...\n",
    "    for day in range(delta_test):\n",
    "    \n",
    "        # Get test data for one day, increased by 1 for each loop (starting with 0)\n",
    "        test_df_day = transactions_df.filter(F.col(\"TX_TIME_DAYS\") == start_tx_time_days_training+\n",
    "                                                                    delta_train+delta_delay+\n",
    "                                                                    day)\n",
    "        \n",
    "        # Frauded cards from that test day, minus the delay period, are added to the pool of known frauded customers\n",
    "        test_df_day_delay_period = transactions_df.filter(F.col(\"TX_TIME_DAYS\") == start_tx_time_days_training+\n",
    "                                                                                delta_train+\n",
    "                                                                                day-1)\n",
    "        # fradulent customers identified during the delay period\n",
    "        new_frauded_customers = test_df_day_delay_period.filter(F.col(\"TX_FRAUD\")==F.lit(1)).select(F.col(\"CUSTOMER_ID\"))\n",
    "        \n",
    "        # known_frauded_customers has fradulent customers identified in the training data\n",
    "        # combine those eith fradulent customers in the delay period, remove duplicates\n",
    "        known_frauded_customers = known_frauded_customers.union(new_frauded_customers)\n",
    "        \n",
    "        # Get the transactions for customers that is not in known_frauded_customers\n",
    "        test_df_day = test_df_day.join(known_frauded_customers, test_df_day.col(\"CUSTOMER_ID\") == known_frauded_customers.col(\"CUSTOMER_ID\"), 'left')\\\n",
    "                          .filter(F.is_null(known_frauded_customers.col(\"CUSTOMER_ID\")))\\\n",
    "                          .select(F.col(\"TRANSACTION_ID\"), F.col(\"TX_DATETIME\"), test_df_day.col(\"CUSTOMER_ID\").alias(\"CUSTOMER_ID\")\\\n",
    "                                  , F.col(\"TERMINAL_ID\"), F.col(\"TX_TIME_SECONDS\"), F.col(\"TX_TIME_DAYS\"), F.col(\"TX_AMOUNT\"), F.col(\"TX_FRAUD\")\\\n",
    "                                  , F.col(\"TX_FRAUD_SCENARIO\"), F.col(\"TX_DURING_WEEKEND\"), F.col(\"TX_DURING_NIGHT\"), F.col(\"CUST_AVG_AMOUNT_1\")\\\n",
    "                                  , F.col(\"CUST_CNT_TX_1\"), F.col(\"CUST_AVG_AMOUNT_7\"), F.col(\"CUST_CNT_TX_7\"), F.col(\"CUST_AVG_AMOUNT_30\")\\\n",
    "                                  , F.col(\"CUST_CNT_TX_30\"), F.col(\"NB_TX_WINDOW_1\"), F.col(\"TERM_RISK_1\"), F.col(\"NB_TX_WINDOW_7\"), F.col(\"TERM_RISK_7\")\\\n",
    "                                  , F.col(\"NB_TX_WINDOW_30\"), F.col(\"TERM_RISK_30\"))\n",
    "        # Store as a temporary table?\n",
    "        # Add it to our test data\n",
    "        test_dfs.append(test_df_day)\n",
    "        \n",
    "    test_df = test_dfs[0].filter(F.is_null(F.col(\"CUSTOMER_ID\")))\n",
    "    for df in test_dfs:\n",
    "        test_df = test_df.union(df)\n",
    "    \n",
    "    # Sort data sets by ascending order of transaction ID\n",
    "    train_df=train_df.sort(F.col(\"TRANSACTION_ID\"))\n",
    "    test_df=test_df.sort(F.col(\"TRANSACTION_ID\"))\n",
    "    \n",
    "    return (train_df, test_df)"
   ]
  },
  {
   "cell_type": "code",
   "execution_count": 14,
   "metadata": {},
   "outputs": [],
   "source": [
    "(df_train, df_test)=get_train_test_set(df_trx,start_date_training,\n",
    "                                       delta_train=7,delta_delay=7,delta_test=7)"
   ]
  },
  {
   "cell_type": "markdown",
   "metadata": {},
   "source": [
    "How many rows training data set?"
   ]
  },
  {
   "cell_type": "code",
   "execution_count": 15,
   "metadata": {},
   "outputs": [
    {
     "data": {
      "text/plain": [
       "67008"
      ]
     },
     "execution_count": 15,
     "metadata": {},
     "output_type": "execute_result"
    }
   ],
   "source": [
    "df_train.count()"
   ]
  },
  {
   "cell_type": "markdown",
   "metadata": {},
   "source": [
    "How many fraud rows?"
   ]
  },
  {
   "cell_type": "code",
   "execution_count": 16,
   "metadata": {},
   "outputs": [
    {
     "name": "stdout",
     "output_type": "stream",
     "text": [
      "-----------------------\n",
      "|\"SUM(\"\"TX_FRAUD\"\")\"  |\n",
      "-----------------------\n",
      "|571                  |\n",
      "-----------------------\n",
      "\n"
     ]
    }
   ],
   "source": [
    "df_train.select(F.sum(F.col(\"TX_FRAUD\"))).show()"
   ]
  },
  {
   "cell_type": "markdown",
   "metadata": {},
   "source": [
    "Training data fradulent rows (since Fraud is a 0/1 value it is easier to summarize than to count with filter)"
   ]
  },
  {
   "cell_type": "markdown",
   "metadata": {},
   "source": [
    "The test data set number of rows"
   ]
  },
  {
   "cell_type": "code",
   "execution_count": 17,
   "metadata": {},
   "outputs": [
    {
     "data": {
      "text/plain": [
       "59176"
      ]
     },
     "execution_count": 17,
     "metadata": {},
     "output_type": "execute_result"
    }
   ],
   "source": [
    "df_test.count()"
   ]
  },
  {
   "cell_type": "markdown",
   "metadata": {},
   "source": [
    "Test data fraudulent rows"
   ]
  },
  {
   "cell_type": "code",
   "execution_count": 18,
   "metadata": {},
   "outputs": [
    {
     "name": "stdout",
     "output_type": "stream",
     "text": [
      "-----------------------\n",
      "|\"SUM(\"\"TX_FRAUD\"\")\"  |\n",
      "-----------------------\n",
      "|374                  |\n",
      "-----------------------\n",
      "\n"
     ]
    }
   ],
   "source": [
    "df_test.select(F.sum(F.col(\"TX_FRAUD\"))).show()"
   ]
  },
  {
   "cell_type": "markdown",
   "metadata": {},
   "source": [
    "If we get the mean of the Fraud field we can get the propotion of frauds in our test data set (if we multiply with 100 we get the precentage)"
   ]
  },
  {
   "cell_type": "code",
   "execution_count": 19,
   "metadata": {},
   "outputs": [
    {
     "name": "stdout",
     "output_type": "stream",
     "text": [
      "-----------------------\n",
      "|\"AVG(\"\"TX_FRAUD\"\")\"  |\n",
      "-----------------------\n",
      "|0.006320             |\n",
      "-----------------------\n",
      "\n"
     ]
    }
   ],
   "source": [
    "df_test.select(F.avg(F.col(\"TX_FRAUD\"))).show()"
   ]
  },
  {
   "cell_type": "markdown",
   "metadata": {},
   "source": [
    "Have a look at the schema of our training dataframe, we can itirate through the columns (field) to generate a nicer output. "
   ]
  },
  {
   "cell_type": "code",
   "execution_count": 20,
   "metadata": {},
   "outputs": [
    {
     "name": "stdout",
     "output_type": "stream",
     "text": [
      "TRANSACTION_ID, Nullable: True, LongType()\n",
      "TX_DATETIME, Nullable: True, TimestampType()\n",
      "CUSTOMER_ID, Nullable: True, LongType()\n",
      "TERMINAL_ID, Nullable: True, LongType()\n",
      "TX_TIME_SECONDS, Nullable: True, LongType()\n",
      "TX_TIME_DAYS, Nullable: True, LongType()\n",
      "TX_AMOUNT, Nullable: True, DoubleType()\n",
      "TX_FRAUD, Nullable: True, LongType()\n",
      "TX_FRAUD_SCENARIO, Nullable: True, LongType()\n",
      "TX_DURING_WEEKEND, Nullable: True, LongType()\n",
      "TX_DURING_NIGHT, Nullable: True, LongType()\n",
      "CUST_AVG_AMOUNT_1, Nullable: True, DoubleType()\n",
      "CUST_CNT_TX_1, Nullable: True, LongType()\n",
      "CUST_AVG_AMOUNT_7, Nullable: True, DoubleType()\n",
      "CUST_CNT_TX_7, Nullable: True, LongType()\n",
      "CUST_AVG_AMOUNT_30, Nullable: True, DoubleType()\n",
      "CUST_CNT_TX_30, Nullable: True, LongType()\n",
      "NB_TX_WINDOW_1, Nullable: True, LongType()\n",
      "TERM_RISK_1, Nullable: True, DecimalType(38, 6)\n",
      "NB_TX_WINDOW_7, Nullable: True, LongType()\n",
      "TERM_RISK_7, Nullable: True, DecimalType(38, 6)\n",
      "NB_TX_WINDOW_30, Nullable: True, LongType()\n",
      "TERM_RISK_30, Nullable: True, DecimalType(38, 6)\n"
     ]
    }
   ],
   "source": [
    "for col in df_train.schema.fields:\n",
    "    print(f\"{col.name}, Nullable: {col.nullable}, {col.datatype}\")"
   ]
  },
  {
   "cell_type": "markdown",
   "metadata": {},
   "source": [
    "Since Snowflake today does not have in-database training of models we need to pull back our data locally into pandas dataframes"
   ]
  },
  {
   "cell_type": "code",
   "execution_count": 21,
   "metadata": {},
   "outputs": [],
   "source": [
    "train_df = df_train.to_pandas()\n",
    "test_df = df_test.to_pandas()"
   ]
  },
  {
   "cell_type": "markdown",
   "metadata": {},
   "source": [
    "### Train the model\n",
    "\n",
    "We will define the input and output features as follows:\n",
    "\n",
    "* The output feature will be the transaction label TX_FRAUD\n",
    "* The input features will be the transaction amount TX_AMOUNT, as well as all the features that were computed in the previous section, which characterize the context of a transaction."
   ]
  },
  {
   "cell_type": "code",
   "execution_count": 22,
   "metadata": {},
   "outputs": [],
   "source": [
    "output_feature=\"TX_FRAUD\"\n",
    "\n",
    "input_features=['TX_AMOUNT','TX_DURING_WEEKEND', 'TX_DURING_NIGHT', 'CUST_CNT_TX_1',\n",
    "       'CUST_AVG_AMOUNT_1', 'CUST_CNT_TX_7', 'CUST_AVG_AMOUNT_7', 'CUST_CNT_TX_30',\n",
    "       'CUST_AVG_AMOUNT_30', 'NB_TX_WINDOW_1', 'TERM_RISK_1', 'NB_TX_WINDOW_7','TERM_RISK_7',\n",
    "        'NB_TX_WINDOW_30','TERM_RISK_30']\n"
   ]
  },
  {
   "cell_type": "code",
   "execution_count": 23,
   "metadata": {},
   "outputs": [
    {
     "data": {
      "text/html": [
       "<style>#sk-container-id-1 {color: black;background-color: white;}#sk-container-id-1 pre{padding: 0;}#sk-container-id-1 div.sk-toggleable {background-color: white;}#sk-container-id-1 label.sk-toggleable__label {cursor: pointer;display: block;width: 100%;margin-bottom: 0;padding: 0.3em;box-sizing: border-box;text-align: center;}#sk-container-id-1 label.sk-toggleable__label-arrow:before {content: \"▸\";float: left;margin-right: 0.25em;color: #696969;}#sk-container-id-1 label.sk-toggleable__label-arrow:hover:before {color: black;}#sk-container-id-1 div.sk-estimator:hover label.sk-toggleable__label-arrow:before {color: black;}#sk-container-id-1 div.sk-toggleable__content {max-height: 0;max-width: 0;overflow: hidden;text-align: left;background-color: #f0f8ff;}#sk-container-id-1 div.sk-toggleable__content pre {margin: 0.2em;color: black;border-radius: 0.25em;background-color: #f0f8ff;}#sk-container-id-1 input.sk-toggleable__control:checked~div.sk-toggleable__content {max-height: 200px;max-width: 100%;overflow: auto;}#sk-container-id-1 input.sk-toggleable__control:checked~label.sk-toggleable__label-arrow:before {content: \"▾\";}#sk-container-id-1 div.sk-estimator input.sk-toggleable__control:checked~label.sk-toggleable__label {background-color: #d4ebff;}#sk-container-id-1 div.sk-label input.sk-toggleable__control:checked~label.sk-toggleable__label {background-color: #d4ebff;}#sk-container-id-1 input.sk-hidden--visually {border: 0;clip: rect(1px 1px 1px 1px);clip: rect(1px, 1px, 1px, 1px);height: 1px;margin: -1px;overflow: hidden;padding: 0;position: absolute;width: 1px;}#sk-container-id-1 div.sk-estimator {font-family: monospace;background-color: #f0f8ff;border: 1px dotted black;border-radius: 0.25em;box-sizing: border-box;margin-bottom: 0.5em;}#sk-container-id-1 div.sk-estimator:hover {background-color: #d4ebff;}#sk-container-id-1 div.sk-parallel-item::after {content: \"\";width: 100%;border-bottom: 1px solid gray;flex-grow: 1;}#sk-container-id-1 div.sk-label:hover label.sk-toggleable__label {background-color: #d4ebff;}#sk-container-id-1 div.sk-serial::before {content: \"\";position: absolute;border-left: 1px solid gray;box-sizing: border-box;top: 0;bottom: 0;left: 50%;z-index: 0;}#sk-container-id-1 div.sk-serial {display: flex;flex-direction: column;align-items: center;background-color: white;padding-right: 0.2em;padding-left: 0.2em;position: relative;}#sk-container-id-1 div.sk-item {position: relative;z-index: 1;}#sk-container-id-1 div.sk-parallel {display: flex;align-items: stretch;justify-content: center;background-color: white;position: relative;}#sk-container-id-1 div.sk-item::before, #sk-container-id-1 div.sk-parallel-item::before {content: \"\";position: absolute;border-left: 1px solid gray;box-sizing: border-box;top: 0;bottom: 0;left: 50%;z-index: -1;}#sk-container-id-1 div.sk-parallel-item {display: flex;flex-direction: column;z-index: 1;position: relative;background-color: white;}#sk-container-id-1 div.sk-parallel-item:first-child::after {align-self: flex-end;width: 50%;}#sk-container-id-1 div.sk-parallel-item:last-child::after {align-self: flex-start;width: 50%;}#sk-container-id-1 div.sk-parallel-item:only-child::after {width: 0;}#sk-container-id-1 div.sk-dashed-wrapped {border: 1px dashed gray;margin: 0 0.4em 0.5em 0.4em;box-sizing: border-box;padding-bottom: 0.4em;background-color: white;}#sk-container-id-1 div.sk-label label {font-family: monospace;font-weight: bold;display: inline-block;line-height: 1.2em;}#sk-container-id-1 div.sk-label-container {text-align: center;}#sk-container-id-1 div.sk-container {/* jupyter's `normalize.less` sets `[hidden] { display: none; }` but bootstrap.min.css set `[hidden] { display: none !important; }` so we also need the `!important` here to be able to override the default hidden behavior on the sphinx rendered scikit-learn.org. See: https://github.com/scikit-learn/scikit-learn/issues/21755 */display: inline-block !important;position: relative;}#sk-container-id-1 div.sk-text-repr-fallback {display: none;}</style><div id=\"sk-container-id-1\" class=\"sk-top-container\"><div class=\"sk-text-repr-fallback\"><pre>RandomForestClassifier(n_jobs=-1, random_state=0)</pre><b>In a Jupyter environment, please rerun this cell to show the HTML representation or trust the notebook. <br />On GitHub, the HTML representation is unable to render, please try loading this page with nbviewer.org.</b></div><div class=\"sk-container\" hidden><div class=\"sk-item\"><div class=\"sk-estimator sk-toggleable\"><input class=\"sk-toggleable__control sk-hidden--visually\" id=\"sk-estimator-id-1\" type=\"checkbox\" checked><label for=\"sk-estimator-id-1\" class=\"sk-toggleable__label sk-toggleable__label-arrow\">RandomForestClassifier</label><div class=\"sk-toggleable__content\"><pre>RandomForestClassifier(n_jobs=-1, random_state=0)</pre></div></div></div></div></div>"
      ],
      "text/plain": [
       "RandomForestClassifier(n_jobs=-1, random_state=0)"
      ]
     },
     "execution_count": 23,
     "metadata": {},
     "output_type": "execute_result"
    }
   ],
   "source": [
    "# Train a model using the RandomForest classifier\n",
    "\n",
    "classifier = sklearn.ensemble.RandomForestClassifier(random_state=0,n_jobs=-1)\n",
    "classifier.fit(train_df[input_features], train_df[output_feature])\n"
   ]
  },
  {
   "cell_type": "code",
   "execution_count": 24,
   "metadata": {},
   "outputs": [],
   "source": [
    "# Get the probablities for fraud for our train and test data sets\n",
    "predictions_train=classifier.predict_proba(train_df[input_features])[:,1]\n",
    "predictions_test=classifier.predict_proba(test_df[input_features])[:,1]"
   ]
  },
  {
   "cell_type": "code",
   "execution_count": 25,
   "metadata": {},
   "outputs": [
    {
     "data": {
      "text/html": [
       "<div>\n",
       "<style scoped>\n",
       "    .dataframe tbody tr th:only-of-type {\n",
       "        vertical-align: middle;\n",
       "    }\n",
       "\n",
       "    .dataframe tbody tr th {\n",
       "        vertical-align: top;\n",
       "    }\n",
       "\n",
       "    .dataframe thead th {\n",
       "        text-align: right;\n",
       "    }\n",
       "</style>\n",
       "<table border=\"1\" class=\"dataframe\">\n",
       "  <thead>\n",
       "    <tr style=\"text-align: right;\">\n",
       "      <th></th>\n",
       "      <th>TRANSACTION_ID</th>\n",
       "      <th>TX_DATETIME</th>\n",
       "      <th>CUSTOMER_ID</th>\n",
       "      <th>TERMINAL_ID</th>\n",
       "      <th>TX_TIME_SECONDS</th>\n",
       "      <th>TX_TIME_DAYS</th>\n",
       "      <th>TX_AMOUNT</th>\n",
       "      <th>TX_FRAUD</th>\n",
       "      <th>TX_FRAUD_SCENARIO</th>\n",
       "      <th>TX_DURING_WEEKEND</th>\n",
       "      <th>TX_DURING_NIGHT</th>\n",
       "      <th>CUST_AVG_AMOUNT_1</th>\n",
       "      <th>CUST_CNT_TX_1</th>\n",
       "      <th>CUST_AVG_AMOUNT_7</th>\n",
       "      <th>CUST_CNT_TX_7</th>\n",
       "      <th>CUST_AVG_AMOUNT_30</th>\n",
       "      <th>CUST_CNT_TX_30</th>\n",
       "      <th>NB_TX_WINDOW_1</th>\n",
       "      <th>TERM_RISK_1</th>\n",
       "      <th>NB_TX_WINDOW_7</th>\n",
       "      <th>TERM_RISK_7</th>\n",
       "      <th>NB_TX_WINDOW_30</th>\n",
       "      <th>TERM_RISK_30</th>\n",
       "      <th>TX_FRAUD_PREDICTED</th>\n",
       "    </tr>\n",
       "  </thead>\n",
       "  <tbody>\n",
       "    <tr>\n",
       "      <th>0</th>\n",
       "      <td>652149</td>\n",
       "      <td>2019-06-08 00:00:53</td>\n",
       "      <td>4391</td>\n",
       "      <td>2590</td>\n",
       "      <td>5875253</td>\n",
       "      <td>68</td>\n",
       "      <td>39.03</td>\n",
       "      <td>0</td>\n",
       "      <td>0</td>\n",
       "      <td>1</td>\n",
       "      <td>1</td>\n",
       "      <td>50.140000</td>\n",
       "      <td>7</td>\n",
       "      <td>53.289714</td>\n",
       "      <td>35</td>\n",
       "      <td>60.987679</td>\n",
       "      <td>112</td>\n",
       "      <td>0</td>\n",
       "      <td>0.0</td>\n",
       "      <td>0</td>\n",
       "      <td>0.0</td>\n",
       "      <td>27</td>\n",
       "      <td>0.0</td>\n",
       "      <td>0.0</td>\n",
       "    </tr>\n",
       "    <tr>\n",
       "      <th>1</th>\n",
       "      <td>652150</td>\n",
       "      <td>2019-06-08 00:01:11</td>\n",
       "      <td>1582</td>\n",
       "      <td>4549</td>\n",
       "      <td>5875271</td>\n",
       "      <td>68</td>\n",
       "      <td>121.79</td>\n",
       "      <td>0</td>\n",
       "      <td>0</td>\n",
       "      <td>1</td>\n",
       "      <td>1</td>\n",
       "      <td>108.550000</td>\n",
       "      <td>2</td>\n",
       "      <td>65.330000</td>\n",
       "      <td>10</td>\n",
       "      <td>71.112439</td>\n",
       "      <td>41</td>\n",
       "      <td>0</td>\n",
       "      <td>0.0</td>\n",
       "      <td>0</td>\n",
       "      <td>0.0</td>\n",
       "      <td>34</td>\n",
       "      <td>0.0</td>\n",
       "      <td>0.0</td>\n",
       "    </tr>\n",
       "    <tr>\n",
       "      <th>2</th>\n",
       "      <td>652151</td>\n",
       "      <td>2019-06-08 00:01:43</td>\n",
       "      <td>2729</td>\n",
       "      <td>2683</td>\n",
       "      <td>5875303</td>\n",
       "      <td>68</td>\n",
       "      <td>92.69</td>\n",
       "      <td>0</td>\n",
       "      <td>0</td>\n",
       "      <td>1</td>\n",
       "      <td>1</td>\n",
       "      <td>92.690000</td>\n",
       "      <td>1</td>\n",
       "      <td>60.568889</td>\n",
       "      <td>18</td>\n",
       "      <td>58.276250</td>\n",
       "      <td>80</td>\n",
       "      <td>0</td>\n",
       "      <td>0.0</td>\n",
       "      <td>0</td>\n",
       "      <td>0.0</td>\n",
       "      <td>28</td>\n",
       "      <td>0.0</td>\n",
       "      <td>0.0</td>\n",
       "    </tr>\n",
       "    <tr>\n",
       "      <th>3</th>\n",
       "      <td>652152</td>\n",
       "      <td>2019-06-08 00:04:50</td>\n",
       "      <td>397</td>\n",
       "      <td>8106</td>\n",
       "      <td>5875490</td>\n",
       "      <td>68</td>\n",
       "      <td>80.28</td>\n",
       "      <td>0</td>\n",
       "      <td>0</td>\n",
       "      <td>1</td>\n",
       "      <td>1</td>\n",
       "      <td>63.547778</td>\n",
       "      <td>9</td>\n",
       "      <td>75.442500</td>\n",
       "      <td>20</td>\n",
       "      <td>76.737407</td>\n",
       "      <td>108</td>\n",
       "      <td>3</td>\n",
       "      <td>0.0</td>\n",
       "      <td>3</td>\n",
       "      <td>0.0</td>\n",
       "      <td>49</td>\n",
       "      <td>0.0</td>\n",
       "      <td>0.0</td>\n",
       "    </tr>\n",
       "    <tr>\n",
       "      <th>4</th>\n",
       "      <td>652153</td>\n",
       "      <td>2019-06-08 00:05:42</td>\n",
       "      <td>58</td>\n",
       "      <td>1969</td>\n",
       "      <td>5875542</td>\n",
       "      <td>68</td>\n",
       "      <td>17.99</td>\n",
       "      <td>0</td>\n",
       "      <td>0</td>\n",
       "      <td>1</td>\n",
       "      <td>1</td>\n",
       "      <td>9.283333</td>\n",
       "      <td>3</td>\n",
       "      <td>18.573333</td>\n",
       "      <td>9</td>\n",
       "      <td>21.296341</td>\n",
       "      <td>41</td>\n",
       "      <td>1</td>\n",
       "      <td>0.0</td>\n",
       "      <td>1</td>\n",
       "      <td>0.0</td>\n",
       "      <td>31</td>\n",
       "      <td>0.0</td>\n",
       "      <td>0.0</td>\n",
       "    </tr>\n",
       "  </tbody>\n",
       "</table>\n",
       "</div>"
      ],
      "text/plain": [
       "   TRANSACTION_ID         TX_DATETIME  CUSTOMER_ID  TERMINAL_ID  \\\n",
       "0          652149 2019-06-08 00:00:53         4391         2590   \n",
       "1          652150 2019-06-08 00:01:11         1582         4549   \n",
       "2          652151 2019-06-08 00:01:43         2729         2683   \n",
       "3          652152 2019-06-08 00:04:50          397         8106   \n",
       "4          652153 2019-06-08 00:05:42           58         1969   \n",
       "\n",
       "   TX_TIME_SECONDS  TX_TIME_DAYS  TX_AMOUNT  TX_FRAUD  TX_FRAUD_SCENARIO  \\\n",
       "0          5875253            68      39.03         0                  0   \n",
       "1          5875271            68     121.79         0                  0   \n",
       "2          5875303            68      92.69         0                  0   \n",
       "3          5875490            68      80.28         0                  0   \n",
       "4          5875542            68      17.99         0                  0   \n",
       "\n",
       "   TX_DURING_WEEKEND  TX_DURING_NIGHT  CUST_AVG_AMOUNT_1  CUST_CNT_TX_1  \\\n",
       "0                  1                1          50.140000              7   \n",
       "1                  1                1         108.550000              2   \n",
       "2                  1                1          92.690000              1   \n",
       "3                  1                1          63.547778              9   \n",
       "4                  1                1           9.283333              3   \n",
       "\n",
       "   CUST_AVG_AMOUNT_7  CUST_CNT_TX_7  CUST_AVG_AMOUNT_30  CUST_CNT_TX_30  \\\n",
       "0          53.289714             35           60.987679             112   \n",
       "1          65.330000             10           71.112439              41   \n",
       "2          60.568889             18           58.276250              80   \n",
       "3          75.442500             20           76.737407             108   \n",
       "4          18.573333              9           21.296341              41   \n",
       "\n",
       "   NB_TX_WINDOW_1  TERM_RISK_1  NB_TX_WINDOW_7  TERM_RISK_7  NB_TX_WINDOW_30  \\\n",
       "0               0          0.0               0          0.0               27   \n",
       "1               0          0.0               0          0.0               34   \n",
       "2               0          0.0               0          0.0               28   \n",
       "3               3          0.0               3          0.0               49   \n",
       "4               1          0.0               1          0.0               31   \n",
       "\n",
       "   TERM_RISK_30  TX_FRAUD_PREDICTED  \n",
       "0           0.0                 0.0  \n",
       "1           0.0                 0.0  \n",
       "2           0.0                 0.0  \n",
       "3           0.0                 0.0  \n",
       "4           0.0                 0.0  "
      ]
     },
     "execution_count": 25,
     "metadata": {},
     "output_type": "execute_result"
    }
   ],
   "source": [
    "# Add the probability to the test data set\n",
    "test_df['TX_FRAUD_PREDICTED']=predictions_test\n",
    "test_df.head()"
   ]
  },
  {
   "cell_type": "markdown",
   "metadata": {},
   "source": [
    "### Assess the performance of the model.\n",
    "\n",
    "We will compute three performance metrics: The AUC ROC, Average Precision (AP), and Card Precision top-𝑘 (CP@k)\n",
    "\n",
    "* The Card Precision top-𝑘 is the most pragmatic and interpretable measure. It takes into account the fact that investigators can only check a maximum of 𝑘 potentially fraudulent cards per day. It is computed by ranking, for every day in the test set, the most fraudulent transactions, and selecting the 𝑘 cards whose transactions have the highest fraud probabilities. The precision (proportion of actual frauded cards out of predicted frauded cards) is then computed for each day. The Card Precision top-𝑘 is the average of these daily precisions. The number 𝑘 will be set to 100 (that is, it is assumed that only 100 cards can be checked every day). \n",
    "\n",
    "* The Average Precision is a proxy for the Card Precision top-𝑘, that integrates precisions for all possible 𝑘 values.\n",
    "\n",
    "* The AUC ROC is an alternative measure to the Average Precision, which gives more importance to scores obtained with higher 𝑘 values. It is less relevant in practice since the performances that matter most are those for low 𝑘 values. We however also report it since it is the most widely used performance metric for fraud detection in the literature. \n",
    "\n",
    "Note that all three metrics provide values in the interval [0,1], and that higher values mean better performances."
   ]
  },
  {
   "cell_type": "code",
   "execution_count": 26,
   "metadata": {},
   "outputs": [],
   "source": [
    "def card_precision_top_k_day(df_day,top_k):\n",
    "    \n",
    "    # This takes the max of the predictions AND the max of label TX_FRAUD for each CUSTOMER_ID, \n",
    "    # and sorts by decreasing order of fraudulent prediction\n",
    "    df_day = df_day.groupby('CUSTOMER_ID').max().sort_values(by=\"predictions\", ascending=False).reset_index(drop=False)\n",
    "            \n",
    "    # Get the top k most suspicious cards\n",
    "    df_day_top_k=df_day.head(top_k)\n",
    "    list_detected_frauded_cards=list(df_day_top_k[df_day_top_k.TX_FRAUD==1].CUSTOMER_ID)\n",
    "    \n",
    "    # Compute precision top k\n",
    "    card_precision_top_k = len(list_detected_frauded_cards) / top_k\n",
    "    \n",
    "    return list_detected_frauded_cards, card_precision_top_k\n",
    "\n",
    "def card_precision_top_k(predictions_df, top_k, remove_detected_frauded_cards=True):\n",
    "\n",
    "    # Sort days by increasing order\n",
    "    list_days=list(predictions_df['TX_TIME_DAYS'].unique())\n",
    "    list_days.sort()\n",
    "    \n",
    "    # At first, the list of detected frauded cards is empty\n",
    "    list_detected_frauded_cards = []\n",
    "    \n",
    "    card_precision_top_k_per_day_list = []\n",
    "    nb_frauded_cards_per_day = []\n",
    "    \n",
    "    # For each day, compute precision top k\n",
    "    for day in list_days:\n",
    "        \n",
    "        df_day = predictions_df[predictions_df['TX_TIME_DAYS']==day]\n",
    "        df_day = df_day[['predictions', 'CUSTOMER_ID', 'TX_FRAUD']]\n",
    "        \n",
    "        # Let us remove detected frauded cards from the set of daily transactions\n",
    "        df_day = df_day[df_day.CUSTOMER_ID.isin(list_detected_frauded_cards)==False]\n",
    "        \n",
    "        nb_frauded_cards_per_day.append(len(df_day[df_day.TX_FRAUD==1].CUSTOMER_ID.unique()))\n",
    "        \n",
    "        detected_frauded_cards, card_precision_top_k = card_precision_top_k_day(df_day,top_k)\n",
    "        \n",
    "        card_precision_top_k_per_day_list.append(card_precision_top_k)\n",
    "        \n",
    "        # Let us update the list of detected frauded cards\n",
    "        if remove_detected_frauded_cards:\n",
    "            list_detected_frauded_cards.extend(detected_frauded_cards)\n",
    "        \n",
    "    # Compute the mean\n",
    "    mean_card_precision_top_k = np.array(card_precision_top_k_per_day_list).mean()\n",
    "    \n",
    "    # Returns precision top k per day as a list, and resulting mean\n",
    "    return nb_frauded_cards_per_day,card_precision_top_k_per_day_list,mean_card_precision_top_k\n",
    "\n",
    "def performance_assessment(predictions_df, output_feature='TX_FRAUD', \n",
    "                           prediction_feature='predictions', top_k_list=[100],\n",
    "                           rounded=True):\n",
    "    \n",
    "    AUC_ROC = metrics.roc_auc_score(predictions_df[output_feature], predictions_df[prediction_feature])\n",
    "    AP = metrics.average_precision_score(predictions_df[output_feature], predictions_df[prediction_feature])\n",
    "    \n",
    "    performances = pd.DataFrame([[AUC_ROC, AP]], \n",
    "                           columns=['AUC ROC','Average precision'])\n",
    "    \n",
    "    for top_k in top_k_list:\n",
    "    \n",
    "        _, _, mean_card_precision_top_k = card_precision_top_k(predictions_df, top_k)\n",
    "        performances['Card Precision@'+str(top_k)]=mean_card_precision_top_k\n",
    "        \n",
    "    if rounded:\n",
    "        performances = performances.round(3)\n",
    "    \n",
    "    return performances"
   ]
  },
  {
   "cell_type": "code",
   "execution_count": 27,
   "metadata": {},
   "outputs": [
    {
     "data": {
      "text/html": [
       "<div>\n",
       "<style scoped>\n",
       "    .dataframe tbody tr th:only-of-type {\n",
       "        vertical-align: middle;\n",
       "    }\n",
       "\n",
       "    .dataframe tbody tr th {\n",
       "        vertical-align: top;\n",
       "    }\n",
       "\n",
       "    .dataframe thead th {\n",
       "        text-align: right;\n",
       "    }\n",
       "</style>\n",
       "<table border=\"1\" class=\"dataframe\">\n",
       "  <thead>\n",
       "    <tr style=\"text-align: right;\">\n",
       "      <th></th>\n",
       "      <th>AUC ROC</th>\n",
       "      <th>Average precision</th>\n",
       "      <th>Card Precision@100</th>\n",
       "    </tr>\n",
       "  </thead>\n",
       "  <tbody>\n",
       "    <tr>\n",
       "      <th>0</th>\n",
       "      <td>0.867</td>\n",
       "      <td>0.631</td>\n",
       "      <td>0.3</td>\n",
       "    </tr>\n",
       "  </tbody>\n",
       "</table>\n",
       "</div>"
      ],
      "text/plain": [
       "   AUC ROC  Average precision  Card Precision@100\n",
       "0    0.867              0.631                 0.3"
      ]
     },
     "execution_count": 27,
     "metadata": {},
     "output_type": "execute_result"
    }
   ],
   "source": [
    "predictions_df=test_df\n",
    "predictions_df['predictions']= predictions_test \n",
    "    \n",
    "performance_assessment(predictions_df, top_k_list=[100])"
   ]
  },
  {
   "cell_type": "markdown",
   "metadata": {},
   "source": [
    "The most interpretable metric is the Card Precision@100, which tells us that every day, 30% of the cards with the highest fraudulent scores were indeed compromised. Since the percentage of frauds in the test set is 0.6%, this proportion of detected frauds is high, and means that the classifier indeed manages to do much better than chance.\n",
    "\n",
    "The interpretation of the AUC ROC and Average Precision is less straightforward. However, by definition, it is known that a random classifier would give an AUC ROC of 0.5, and an Average Precision of 0.006 (the proportion of frauds in the test set). The obtained values are much higher (0.866) and (0.65), confirming the ability of the classifier to provide much better predictions than a random model."
   ]
  },
  {
   "cell_type": "code",
   "execution_count": 28,
   "metadata": {},
   "outputs": [
    {
     "data": {
      "text/html": [
       "<div>\n",
       "<style scoped>\n",
       "    .dataframe tbody tr th:only-of-type {\n",
       "        vertical-align: middle;\n",
       "    }\n",
       "\n",
       "    .dataframe tbody tr th {\n",
       "        vertical-align: top;\n",
       "    }\n",
       "\n",
       "    .dataframe thead th {\n",
       "        text-align: right;\n",
       "    }\n",
       "</style>\n",
       "<table border=\"1\" class=\"dataframe\">\n",
       "  <thead>\n",
       "    <tr style=\"text-align: right;\">\n",
       "      <th></th>\n",
       "      <th>AUC ROC</th>\n",
       "      <th>Average precision</th>\n",
       "      <th>Card Precision@100</th>\n",
       "    </tr>\n",
       "  </thead>\n",
       "  <tbody>\n",
       "    <tr>\n",
       "      <th>0</th>\n",
       "      <td>0.5</td>\n",
       "      <td>0.006</td>\n",
       "      <td>0.016</td>\n",
       "    </tr>\n",
       "  </tbody>\n",
       "</table>\n",
       "</div>"
      ],
      "text/plain": [
       "   AUC ROC  Average precision  Card Precision@100\n",
       "0      0.5              0.006               0.016"
      ]
     },
     "execution_count": 28,
     "metadata": {},
     "output_type": "execute_result"
    }
   ],
   "source": [
    "predictions_df['predictions']=0.5\n",
    "    \n",
    "performance_assessment(predictions_df, top_k_list=[100])"
   ]
  },
  {
   "cell_type": "markdown",
   "metadata": {},
   "source": [
    "### Deploy model to Snowflake\n",
    "\n",
    "In order to use the model in Snowflake for scoring data we need to create a Python UDF.\n",
    "\n",
    "There is two ways on how we can deploy the model object, classifier, to Snowflake. \n",
    "1. We can use the variable directly and have the model object included in UDF code\n",
    "2. We can save it to a file and upload it to a stage and load it form the stage when the UDF is called\n",
    "\n",
    "\n",
    "In this example we will use the second option.\n",
    "\n",
    "First we save the model object to a file."
   ]
  },
  {
   "cell_type": "code",
   "execution_count": 29,
   "metadata": {},
   "outputs": [
    {
     "data": {
      "text/plain": [
       "['predict_fraud.joblib']"
      ]
     },
     "execution_count": 29,
     "metadata": {},
     "output_type": "execute_result"
    }
   ],
   "source": [
    "from joblib import dump, load\n",
    "dump(classifier, 'predict_fraud.joblib')"
   ]
  },
  {
   "cell_type": "markdown",
   "metadata": {},
   "source": [
    "Since we are creating a permanent function we need to use a stage so Snowpark can upload our code and model"
   ]
  },
  {
   "cell_type": "code",
   "execution_count": 30,
   "metadata": {},
   "outputs": [
    {
     "data": {
      "text/plain": [
       "[Row(status='Stage area UDFSTAGE successfully created.')]"
      ]
     },
     "execution_count": 30,
     "metadata": {},
     "output_type": "execute_result"
    }
   ],
   "source": [
    "session.sql(\"CREATE STAGE IF NOT EXISTS UDFSTAGE\").collect()"
   ]
  },
  {
   "cell_type": "markdown",
   "metadata": {},
   "source": [
    "Upload the model file to the new stage"
   ]
  },
  {
   "cell_type": "code",
   "execution_count": 31,
   "metadata": {},
   "outputs": [
    {
     "data": {
      "text/plain": [
       "[PutResult(source='predict_fraud.joblib', target='predict_fraud.joblib', source_size=7459464, target_size=7459472, source_compression='NONE', target_compression='NONE', status='UPLOADED', message='')]"
      ]
     },
     "execution_count": 31,
     "metadata": {},
     "output_type": "execute_result"
    }
   ],
   "source": [
    "session.file.put(\"predict_fraud.joblib\", \"@UDFSTAGE\", auto_compress=False, overwrite=True)"
   ]
  },
  {
   "cell_type": "markdown",
   "metadata": {},
   "source": [
    "Below code creates a Python UDF in Snowflake that uses our model (that we trained earlier) for scroing of data.\n",
    "\n",
    "We need to provide the packages we will use in the function by **add_packages** and since we are seperatinmg our model from the function we also need to make the UDF aware of the filw by using **add_import**"
   ]
  },
  {
   "cell_type": "code",
   "execution_count": 32,
   "metadata": {},
   "outputs": [],
   "source": [
    "session.clear_imports()\n",
    "session.clear_packages()\n",
    "session.add_import(\"@UDFSTAGE/predict_fraud.joblib\")\n",
    "session.add_packages(\"joblib\", \"scikit-learn\", \"cachetools\")"
   ]
  },
  {
   "cell_type": "markdown",
   "metadata": {},
   "source": [
    "We will create two functions to be used for scoring.\n",
    "\n",
    "**read_file** is a helper function that is used with **cachetools** to make sure we only load the model file once and **detect_fraud_batch** is the function that does the scoring. We are using the Python UDF Batch API to create a vectorized UDF that takes a Pandas Dataframe as input, meaning we get fewer calls since each call is on a number of rows at the time (as opposite to a Scalar UDF where we get one row for each call)."
   ]
  },
  {
   "cell_type": "code",
   "execution_count": 33,
   "metadata": {},
   "outputs": [],
   "source": [
    "@cachetools.cached(cache={})\n",
    "def read_file(filename):\n",
    "    import joblib\n",
    "    import sys\n",
    "    import os\n",
    "    \n",
    "    import_dir = sys._xoptions.get(\"snowflake_import_directory\")\n",
    "    if import_dir:\n",
    "        with open(os.path.join(import_dir, filename), 'rb') as file:\n",
    "            m = joblib.load(file)\n",
    "            return m\n",
    "\n",
    "@F.udf(name = 'detect_fraud_batch_udf', is_permanent = True, replace = True, stage_location = '@UDFSTAGE')\n",
    "def detect_fraud_batch(df: PandasDataFrame[float, int, int, int, float, int, float, int, float, int, float, int, float, int, float]) -> PandasSeries[float]:\n",
    "    import sklearn\n",
    "    \n",
    "    pipeline = read_file('predict_fraud.joblib')\n",
    "    return pipeline.predict_proba(df)[:,1]"
   ]
  },
  {
   "cell_type": "markdown",
   "metadata": {},
   "source": [
    "We have now deployed the function and the model to Snowflake and can use it."
   ]
  },
  {
   "cell_type": "code",
   "execution_count": 34,
   "metadata": {},
   "outputs": [
    {
     "name": "stdout",
     "output_type": "stream",
     "text": [
      "-----------------------------------------------------------------------------------------------------------------------------------------------------------------------------------------------------------------------------------------------------------------------------------------------------------------------------------------------------------------------------------------------------------------------------------------------\n",
      "|\"TRANSACTION_ID\"  |\"TX_DATETIME\"        |\"CUSTOMER_ID\"  |\"TERMINAL_ID\"  |\"TX_TIME_SECONDS\"  |\"TX_TIME_DAYS\"  |\"TX_AMOUNT\"  |\"TX_FRAUD\"  |\"TX_FRAUD_SCENARIO\"  |\"TX_DURING_WEEKEND\"  |\"TX_DURING_NIGHT\"  |\"CUST_AVG_AMOUNT_1\"  |\"CUST_CNT_TX_1\"  |\"CUST_AVG_AMOUNT_7\"  |\"CUST_CNT_TX_7\"  |\"CUST_AVG_AMOUNT_30\"  |\"CUST_CNT_TX_30\"  |\"NB_TX_WINDOW_1\"  |\"TERM_RISK_1\"  |\"NB_TX_WINDOW_7\"  |\"TERM_RISK_7\"  |\"NB_TX_WINDOW_30\"  |\"TERM_RISK_30\"  |\n",
      "-----------------------------------------------------------------------------------------------------------------------------------------------------------------------------------------------------------------------------------------------------------------------------------------------------------------------------------------------------------------------------------------------------------------------------------------------\n",
      "|1006984           |2019-07-15 00:01:51  |3188           |4158           |9072111            |105             |46.58        |0           |0                    |0                    |1                  |51.879999999999995   |2                |68.46703703703703    |27               |71.26197916666668     |96                |3                 |0.000000       |3                 |0.000000       |27                 |0.000000        |\n",
      "|1006985           |2019-07-15 00:01:51  |4291           |5628           |9072111            |105             |122.56       |0           |0                    |0                    |1                  |85.83200000000001    |5                |75.8870833333333     |24               |73.70821428571423     |84                |0                 |0.000000       |0                 |0.000000       |24                 |0.000000        |\n",
      "|1006986           |2019-07-15 00:01:53  |562            |8566           |9072113            |105             |97.82        |0           |0                    |0                    |1                  |100.78               |4                |133.1641666666667    |12               |106.49014705882354    |68                |0                 |0.000000       |0                 |0.000000       |16                 |0.062500        |\n",
      "|1006987           |2019-07-15 00:02:08  |840            |1897           |9072128            |105             |1.32         |0           |0                    |0                    |1                  |52.11000000000001    |6                |63.457241379310354   |29               |65.04330188679243     |106               |0                 |0.000000       |0                 |0.000000       |29                 |0.000000        |\n",
      "|1006988           |2019-07-15 00:02:21  |2389           |9532           |9072141            |105             |27.82        |0           |0                    |0                    |1                  |20.715               |2                |25.345357142857154   |28               |22.772403846153868    |104               |0                 |0.000000       |0                 |0.000000       |14                 |0.000000        |\n",
      "|1006989           |2019-07-15 00:04:34  |2058           |4836           |9072274            |105             |60.74        |0           |0                    |0                    |1                  |77.96666666666667    |3                |77.673               |10               |75.8103125            |32                |2                 |0.000000       |2                 |0.000000       |28                 |0.000000        |\n",
      "|1006990           |2019-07-15 00:05:35  |3971           |9979           |9072335            |105             |9.05         |0           |0                    |0                    |1                  |11.985               |2                |21.453333333333333   |9                |29.076415094339627    |53                |1                 |0.000000       |1                 |0.000000       |27                 |0.000000        |\n",
      "|1006991           |2019-07-15 00:06:06  |2857           |4503           |9072366            |105             |32.69        |0           |0                    |0                    |1                  |32.69                |1                |53.00499999999996    |6                |66.98062499999999     |32                |1                 |0.000000       |1                 |0.000000       |41                 |0.024390        |\n",
      "|1006992           |2019-07-15 00:06:41  |429            |3570           |9072401            |105             |15.05        |0           |0                    |0                    |1                  |23.74142857142857    |7                |26.881249999999998   |24               |27.474411764705884    |102               |0                 |0.000000       |0                 |0.000000       |30                 |0.000000        |\n",
      "|1006993           |2019-07-15 00:07:03  |609            |5996           |9072423            |105             |23.49        |0           |0                    |0                    |1                  |22.95                |2                |16.47857142857145    |7                |15.506935483870974    |62                |1                 |0.000000       |1                 |0.000000       |31                 |0.000000        |\n",
      "-----------------------------------------------------------------------------------------------------------------------------------------------------------------------------------------------------------------------------------------------------------------------------------------------------------------------------------------------------------------------------------------------------------------------------------------------\n",
      "\n"
     ]
    }
   ],
   "source": [
    "df_cust_trx = session.table(\"CUSTOMER_TRX_FRAUD_FEATURES\").filter(F.col(\"TX_DATETIME\") > \"2019-07-15 00:00:00\")\n",
    "df_cust_trx.show()"
   ]
  },
  {
   "cell_type": "markdown",
   "metadata": {},
   "source": [
    "We can use the function name, **detect_fraud_batch**, when using the Snowpark API to call the UDF."
   ]
  },
  {
   "cell_type": "code",
   "execution_count": 35,
   "metadata": {},
   "outputs": [
    {
     "name": "stderr",
     "output_type": "stream",
     "text": [
      "Passing arguments to a UDF with a list or tuple is deprecated. We still respect this invocation but please consider passing variable-length arguments without a list or tuple.\n"
     ]
    },
    {
     "name": "stdout",
     "output_type": "stream",
     "text": [
      "-----------------------------------------------------------------------------------------\n",
      "|\"TRANSACTION_ID\"  |\"TX_DATETIME\"        |\"CUSTOMER_ID\"  |\"TERMINAL_ID\"  |\"FRAUD_PROB\"  |\n",
      "-----------------------------------------------------------------------------------------\n",
      "|1006984           |2019-07-15 00:01:51  |3188           |4158           |0.0           |\n",
      "|1006985           |2019-07-15 00:01:51  |4291           |5628           |0.01          |\n",
      "|1006986           |2019-07-15 00:01:53  |562            |8566           |0.04          |\n",
      "|1006987           |2019-07-15 00:02:08  |840            |1897           |0.0           |\n",
      "|1006988           |2019-07-15 00:02:21  |2389           |9532           |0.0           |\n",
      "|1006989           |2019-07-15 00:04:34  |2058           |4836           |0.0           |\n",
      "|1006990           |2019-07-15 00:05:35  |3971           |9979           |0.02          |\n",
      "|1006991           |2019-07-15 00:06:06  |2857           |4503           |0.0           |\n",
      "|1006992           |2019-07-15 00:06:41  |429            |3570           |0.0           |\n",
      "|1006993           |2019-07-15 00:07:03  |609            |5996           |0.01          |\n",
      "-----------------------------------------------------------------------------------------\n",
      "\n"
     ]
    }
   ],
   "source": [
    "df_cust_trx.select(F.col(\"TRANSACTION_ID\"), F.col(\"TX_DATETIME\"), F.col(\"CUSTOMER_ID\"), F.col(\"TERMINAL_ID\"), \n",
    "                    detect_fraud_batch(input_features).as_(\"FRAUD_PROB\")).show()"
   ]
  },
  {
   "cell_type": "markdown",
   "metadata": {},
   "source": [
    "If we want to do the same with SQL we could run the following where we need to use the name of the UDF, **detect_fraud_batch_udf**\n",
    "\n",
    "`SELECT TRANSACTION_ID, TX_DATETIME, CUSTOMER_ID, TERMINAL_ID, TX_AMOUNT ,detect_fraud_batch_udf(TX_AMOUNT,TX_DURING_WEEKEND, TX_DURING_NIGHT, CUST_CNT_TX_1, CUST_AVG_AMOUNT_1, CUST_CNT_TX_7, CUST_AVG_AMOUNT_7, CUST_CNT_TX_30,CUST_AVG_AMOUNT_30, NB_TX_WINDOW_1, TERM_RISK_1, NB_TX_WINDOW_7,TERM_RISK_7, NB_TX_WINDOW_30,TERM_RISK_30) AS FRAUD_PROB \n",
    "FROM CUSTOMER_TRX_FRAUD_FEATURES \n",
    "WHERE TX_DATETIME > '2019-07-15 00:00:00' LIMIT 10;`"
   ]
  },
  {
   "cell_type": "code",
   "execution_count": null,
   "metadata": {},
   "outputs": [],
   "source": []
  }
 ],
 "metadata": {
  "kernelspec": {
   "display_name": "Python 3 (ipykernel)",
   "language": "python",
   "name": "python3"
  },
  "language_info": {
   "codemirror_mode": {
    "name": "ipython",
    "version": 3
   },
   "file_extension": ".py",
   "mimetype": "text/x-python",
   "name": "python",
   "nbconvert_exporter": "python",
   "pygments_lexer": "ipython3",
   "version": "3.8.13"
  }
 },
 "nbformat": 4,
 "nbformat_minor": 4
}
