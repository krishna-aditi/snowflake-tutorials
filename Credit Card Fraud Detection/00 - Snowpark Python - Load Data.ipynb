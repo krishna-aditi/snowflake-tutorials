{
 "cells": [
  {
   "cell_type": "markdown",
   "id": "68744f63-fcc9-4759-9996-f7768fa62305",
   "metadata": {},
   "source": [
    "# Credit Card Fraud Prediction - Loading Dataset using Snowpark Python\n",
    "\n",
    "This example is based on the Machine Learning for Credit Card Fraud detection - Practical handbook, https://fraud-detection-handbook.github.io/fraud-detection-handbook/"
   ]
  },
  {
   "cell_type": "markdown",
   "id": "3baa542d-92f7-4a79-a8ea-be189bda306a",
   "metadata": {},
   "source": [
    "## Loading Credit Card Transactions into Snowflake\n",
    "\n",
    "### Import the dependencies and connect to Snowflake"
   ]
  },
  {
   "cell_type": "code",
   "execution_count": 1,
   "id": "731d3ad3-48ce-498a-83e4-9efb780e5a46",
   "metadata": {},
   "outputs": [
    {
     "data": {
      "text/plain": [
       "'0.11.0'"
      ]
     },
     "execution_count": 1,
     "metadata": {},
     "output_type": "execute_result"
    }
   ],
   "source": [
    "# Snowpark\n",
    "from snowflake.snowpark import Session\n",
    "import snowflake.snowpark.types as T\n",
    "import snowflake.snowpark.functions as F\n",
    "\n",
    "# Print the version of Snowpark we are using\n",
    "from importlib.metadata import version\n",
    "version('snowflake_snowpark_python')"
   ]
  },
  {
   "cell_type": "code",
   "execution_count": 2,
   "id": "eaa30546-cda7-4528-8690-82a1897ec79e",
   "metadata": {},
   "outputs": [],
   "source": [
    "# Other\n",
    "import json"
   ]
  },
  {
   "cell_type": "markdown",
   "id": "787c6f32-d170-48b4-bee1-be476d1d5db1",
   "metadata": {},
   "source": [
    "**Before connecting make sure you have updated creds.json with information for your Snowflake account**"
   ]
  },
  {
   "cell_type": "code",
   "execution_count": 3,
   "id": "c140283a-60eb-4215-945b-50ffb8ba7b92",
   "metadata": {},
   "outputs": [],
   "source": [
    "with open('creds.json') as f:\n",
    "    connection_parameters = json.load(f)"
   ]
  },
  {
   "cell_type": "code",
   "execution_count": 4,
   "id": "04cbfa0d-8505-46a4-b4ab-602814c12d53",
   "metadata": {},
   "outputs": [],
   "source": [
    "session = Session.builder.configs(connection_parameters).create()"
   ]
  },
  {
   "cell_type": "markdown",
   "id": "f77f0055-4a93-4baa-873a-edf5f0135f9f",
   "metadata": {},
   "source": [
    "The **get_** functions can be use to get information about the current database, schema, role etc"
   ]
  },
  {
   "cell_type": "code",
   "execution_count": 5,
   "id": "6f6005c7-cd91-49c9-8324-c3230a867140",
   "metadata": {},
   "outputs": [
    {
     "name": "stdout",
     "output_type": "stream",
     "text": [
      "Current schema: \"FRAUD_DATA\".\"PUBLIC\", current role: \"ACCOUNTADMIN\", current warehouse:  \"COMPUTE_WH\"\n"
     ]
    }
   ],
   "source": [
    "print(f\"Current schema: {session.get_fully_qualified_current_schema()}, current role: {session.get_current_role()}, current warehouse:  {session.get_current_warehouse()}\")"
   ]
  },
  {
   "cell_type": "markdown",
   "id": "04cdd2e3-27bb-4a8a-9bdd-011759cc7882",
   "metadata": {},
   "source": [
    "### Define Staging Area and the Schema for the transaction table\n",
    "\n",
    "Using SQL we can create a internal stage and then use the **put** function to uplad the **fraud_transactions.csv.gz** file to it."
   ]
  },
  {
   "cell_type": "code",
   "execution_count": 6,
   "id": "998ff299-6597-4a9d-a034-09c57472a478",
   "metadata": {},
   "outputs": [
    {
     "data": {
      "text/plain": [
       "[PutResult(source='fraud_transactions.csv.gz', target='fraud_transactions.csv.gz', source_size=21382572, target_size=21382576, source_compression='GZIP', target_compression='GZIP', status='UPLOADED', message='')]"
      ]
     },
     "execution_count": 6,
     "metadata": {},
     "output_type": "execute_result"
    }
   ],
   "source": [
    "stage_name = \"FRAUD_DATA\"\n",
    "# Create a internal staging area for uploading the source file\n",
    "session.sql(f\"CREATE or replace STAGE {stage_name}\").collect()\n",
    "\n",
    "# Upload the source file to the stage\n",
    "putResult = session.file.put(\"data/fraud_transactions.csv.gz\", f\"@{stage_name}\", auto_compress=False, overwrite=True)\n",
    "\n",
    "putResult"
   ]
  },
  {
   "cell_type": "markdown",
   "id": "87476649-9e5b-4907-be64-2dcaea28a6b8",
   "metadata": {},
   "source": [
    "Define the schma for our **CUSTOMER_TRANSACTIONS_FRAUD** table"
   ]
  },
  {
   "cell_type": "code",
   "execution_count": 7,
   "id": "a372c7ee-62e1-4b77-a923-efb4d840d512",
   "metadata": {},
   "outputs": [],
   "source": [
    "# Define the schema for the Frauds table\n",
    "dfCustTrxFraudSchema = T.StructType(\n",
    "    [\n",
    "        T.StructField(\"TRANSACTION_ID\", T.IntegerType()),\n",
    "        T.StructField(\"TX_DATETIME\", T.TimestampType()),\n",
    "        T.StructField(\"CUSTOMER_ID\", T.IntegerType()),\n",
    "        T.StructField(\"TERMINAL_ID\", T.IntegerType()),\n",
    "        T.StructField(\"TX_AMOUNT\", T.FloatType()),\n",
    "        T.StructField(\"TX_TIME_SECONDS\", T.IntegerType()),\n",
    "        T.StructField(\"TX_TIME_DAYS\", T.IntegerType()),\n",
    "        T.StructField(\"TX_FRAUD\", T.IntegerType()),\n",
    "        T.StructField(\"TX_FRAUD_SCENARIO\", T.IntegerType())\n",
    "    ]\n",
    ")"
   ]
  },
  {
   "cell_type": "markdown",
   "id": "a7ae5a4d-9058-4428-aa27-328dfbf2bd68",
   "metadata": {},
   "source": [
    "Load the **fraud_transactions.csv.gz** to a DataFrame reader and save into a table"
   ]
  },
  {
   "cell_type": "code",
   "execution_count": 8,
   "id": "d2a1dade-44be-497a-82e7-ace3c2462966",
   "metadata": {},
   "outputs": [],
   "source": [
    "# Crete a reader\n",
    "dfReader = session.read.schema(dfCustTrxFraudSchema)\n",
    "\n",
    "# Get the data into the data frame\n",
    "dfCustTrxFraudRd = dfReader.csv(f\"@{stage_name}/fraud_transactions.csv.gz\")"
   ]
  },
  {
   "cell_type": "code",
   "execution_count": 9,
   "id": "358c8a6f-4e05-4a82-bde5-3695c701f8af",
   "metadata": {},
   "outputs": [],
   "source": [
    "# Write the dataframe in a table\n",
    "ret = dfCustTrxFraudRd.write.mode(\"overwrite\").saveAsTable(\"CUSTOMER_TRANSACTIONS_FRAUD\")"
   ]
  },
  {
   "cell_type": "markdown",
   "id": "ca2c401b-cfa3-41d0-a7c6-59cb0ae0cf50",
   "metadata": {},
   "source": [
    "### Read the data from the staging area and create CUSTOMER_TRANSACTIONS_FRAUD, CUSTOMERS and TERMINALS tables"
   ]
  },
  {
   "cell_type": "code",
   "execution_count": 10,
   "id": "14282b62-c4f7-4b5a-a19e-eb1aeff7064a",
   "metadata": {},
   "outputs": [],
   "source": [
    "# Now create Customers and Terminal tables\n",
    "\n",
    "dfCustTrxFraudTb =session.table(\"CUSTOMER_TRANSACTIONS_FRAUD\")\n",
    "\n",
    "dfCustomers = dfCustTrxFraudTb.select(F.col(\"CUSTOMER_ID\")).distinct().sort(F.col(\"CUSTOMER_ID\"))\n",
    "\n",
    "dfTerminals = dfCustTrxFraudTb.select(F.col(\"TERMINAL_ID\")).distinct().sort(F.col(\"TERMINAL_ID\"))\n",
    "                                \n",
    "ret2 = dfCustomers.write.mode(\"overwrite\").saveAsTable(\"CUSTOMERS\")\n",
    "\n",
    "ret3 = dfTerminals.write.mode(\"overwrite\").saveAsTable(\"TERMINALS\")"
   ]
  },
  {
   "cell_type": "code",
   "execution_count": 11,
   "id": "ee6c44b0-136a-438b-b19f-bf395a79efad",
   "metadata": {},
   "outputs": [
    {
     "name": "stdout",
     "output_type": "stream",
     "text": [
      "----------------------------------------------------------------------------------------------------------------------------------------------------------------\n",
      "|\"TRANSACTION_ID\"  |\"TX_DATETIME\"        |\"CUSTOMER_ID\"  |\"TERMINAL_ID\"  |\"TX_AMOUNT\"  |\"TX_TIME_SECONDS\"  |\"TX_TIME_DAYS\"  |\"TX_FRAUD\"  |\"TX_FRAUD_SCENARIO\"  |\n",
      "----------------------------------------------------------------------------------------------------------------------------------------------------------------\n",
      "|0                 |2019-04-01 00:00:31  |596            |3156           |57.16        |31                 |0               |0           |0                    |\n",
      "|1                 |2019-04-01 00:02:10  |4961           |3412           |81.51        |130                |0               |0           |0                    |\n",
      "|2                 |2019-04-01 00:07:56  |2              |1365           |146.0        |476                |0               |0           |0                    |\n",
      "|3                 |2019-04-01 00:09:29  |4128           |8737           |64.49        |569                |0               |0           |0                    |\n",
      "|4                 |2019-04-01 00:10:34  |927            |9906           |50.99        |634                |0               |0           |0                    |\n",
      "|5                 |2019-04-01 00:10:45  |568            |8803           |44.71        |645                |0               |0           |0                    |\n",
      "|6                 |2019-04-01 00:11:30  |2803           |5490           |96.03        |690                |0               |0           |0                    |\n",
      "|7                 |2019-04-01 00:11:44  |4684           |2486           |24.36        |704                |0               |0           |0                    |\n",
      "|8                 |2019-04-01 00:11:53  |4128           |8354           |26.34        |713                |0               |0           |0                    |\n",
      "|9                 |2019-04-01 00:13:44  |541            |6212           |59.07        |824                |0               |0           |0                    |\n",
      "----------------------------------------------------------------------------------------------------------------------------------------------------------------\n",
      "\n"
     ]
    }
   ],
   "source": [
    "dfCustTrxFraudTb.show()"
   ]
  },
  {
   "cell_type": "code",
   "execution_count": null,
   "id": "6a1bb6a4-6593-46af-8912-76ab2819dea4",
   "metadata": {},
   "outputs": [],
   "source": []
  }
 ],
 "metadata": {
  "kernelspec": {
   "display_name": "Python 3 (ipykernel)",
   "language": "python",
   "name": "python3"
  },
  "language_info": {
   "codemirror_mode": {
    "name": "ipython",
    "version": 3
   },
   "file_extension": ".py",
   "mimetype": "text/x-python",
   "name": "python",
   "nbconvert_exporter": "python",
   "pygments_lexer": "ipython3",
   "version": "3.8.13"
  }
 },
 "nbformat": 4,
 "nbformat_minor": 5
}
